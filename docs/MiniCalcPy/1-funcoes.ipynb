{
 "cells": [
  {
   "cell_type": "markdown",
   "metadata": {},
   "source": [
    "# Cálculo com Python\n",
    "\n",
    "Este é um **minicurso** sobre **resolução de problemas** de **cálculo** diferencial e integral usando [Python](https://www.python.org/) e a biblioteca de matemática simbólica [Sympy](http://www.sympy.org/). Não é necessário ter qualquer experiência na linguagem de programação [Python](https://www.python.org/) para seguir este curso.\n",
    "\n",
    "Neste minicurso você vai **aprender** a usar o [Python](https://www.python.org/) para:\n",
    "\n",
    "- manipular e graficar **funções** de uma variável;\n",
    "- calcular **limites**;\n",
    "- calcular **derivadas**;\n",
    "- calcular **integrais** definidas e indefinidas.\n",
    "\n",
    "Se você é um iniciante em [Python](https://www.python.org/) não é necessário instalar nenhum programa em seu computador para seguir este curso. O material do curso está disponível em formatos `IPYNB` ([Jupyter NoteBook](http://jupyter.org/)) e em `HTML`. Também, está disponível a seguinte ligação [Binder](https://mybinder.org/):\n",
    "\n",
    "[![Binder](https://mybinder.org/badge_logo.svg)](https://mybinder.org/v2/gh/phkonzen/notas/master?filepath=%2Fsrc%2FMiniCalcPy)\n",
    "\n",
    "Clicando na ligação acima, você tem acesso a um [Jupyter NoteBook](http://jupyter.org/) online com o material do minicurso.\n",
    "\n",
    "## 1 - Funções de uma variável\n",
    "\n",
    "Nesta primeira parte do minicurso **Cálculo com Python** você aprenderá a:\n",
    "\n",
    "- definir **funções** de uma variável real;\n",
    "- computar **valores de funções**;\n",
    "- plotar **gráficos** funções;\n",
    "- computar **zeros** de funções."
   ]
  },
  {
   "cell_type": "markdown",
   "metadata": {},
   "source": [
    "### Inportando a biblioteca [Sympy](http://www.sympy.org/)\n",
    "\n",
    "O seguinte comando importa a biblioteca de matemática simbólica [Sympy](http://www.sympy.org/). Em um computador, clique sobre a seguinte célula e digite `SHIFT + ENTER` para executá-la. No celular ou _tablet_, toque no símbolo de _play_ no canto superior esquerdo da célula."
   ]
  },
  {
   "cell_type": "code",
   "execution_count": 1,
   "metadata": {},
   "outputs": [],
   "source": [
    "from sympy import *\n",
    "# seleciona a melhor saída disponível\n",
    "init_printing()"
   ]
  },
  {
   "cell_type": "markdown",
   "metadata": {},
   "source": [
    "#### Definindo símbolos para variáveis e funções\n",
    "\n",
    "Na sequência, vamos ver como podemos usar o [Sympy](http://www.sympy.org/) para lidarmos com funções reais de uma variável real, por exemplo: $y = f(x)$. Neste contexto, os símbolos $x$ e $y$ denotam as variáveis independente e dependente, respectivamente. O símbolo $x$ pode ser definido com a função [`var`](https://docs.sympy.org/latest/modules/core.html?highlight=var#sympy.core.symbol.var):"
   ]
  },
  {
   "cell_type": "code",
   "execution_count": 2,
   "metadata": {},
   "outputs": [
    {
     "data": {
      "image/png": "[encoded data removed]",
      "text/latex": [
       "$$x$$"
      ],
      "text/plain": [
       "x"
      ]
     },
     "execution_count": 2,
     "metadata": {},
     "output_type": "execute_result"
    }
   ],
   "source": [
    "var('x')"
   ]
  },
  {
   "cell_type": "markdown",
   "metadata": {},
   "source": [
    "**Exercício:**\n",
    "\n",
    "Defina $y$ como variável simbólica."
   ]
  },
  {
   "cell_type": "code",
   "execution_count": 3,
   "metadata": {},
   "outputs": [],
   "source": [
    "# escreva sua resolução aqui!"
   ]
  },
  {
   "cell_type": "markdown",
   "metadata": {},
   "source": [
    "### Definindo funções"
   ]
  },
  {
   "cell_type": "markdown",
   "metadata": {},
   "source": [
    "Vamos ver como definir uma função $y = f(x)$ para ser utilizada mais tarde. Ao longo minicurso, vamos considerar a função:\n",
    "\n",
    "$f(x) = (x^3 - 3x + 2)e^{-x/4} - 1$.\n",
    "\n",
    "No [Python](https://www.python.org/) os operadores aritméticos básicos são:\n",
    "<pre><code>+</code> adição</pre> \n",
    "<pre><code>-</code> subtração</pre>\n",
    "<pre><code>*</code> multiplicão</pre>\n",
    "<pre><code>/</code> divisão</pre>\n",
    "<pre><code>**</code> potenciação</pre>\n",
    "\n",
    "Também, muitas funções elementares já estão definidas por padrão no [Sympy](https://www.sympy.org/en/index.html). Veja a lista [aqui](https://docs.sympy.org/latest/modules/functions/elementary.html)!\n",
    "\n",
    "Para definirmos $f$, podemos usar a função [`Lambda`](https://docs.sympy.org/latest/modules/core.html?highlight=lambda#sympy.core.function.Lambda) como segue:"
   ]
  },
  {
   "cell_type": "code",
   "execution_count": 4,
   "metadata": {
    "scrolled": true
   },
   "outputs": [
    {
     "data": {
      "image/png": "[encoded data removed]",
      "text/latex": [
       "$$\\left( x \\mapsto \\left(x^{3} - 3 x + 2\\right) e^{- \\frac{x}{4}} - 1 \\right)$$"
      ],
      "text/plain": [
       "                    -x     \n",
       "                    ───    \n",
       "    ⎛ 3          ⎞   4     \n",
       "x ↦ ⎝x  - 3⋅x + 2⎠⋅ℯ    - 1"
      ]
     },
     "execution_count": 4,
     "metadata": {},
     "output_type": "execute_result"
    }
   ],
   "source": [
    "f = Lambda(x, (x**3 - 3*x + 2)*exp(-x/4) - 1)\n",
    "f"
   ]
  },
  {
   "cell_type": "markdown",
   "metadata": {},
   "source": [
    "Com isso, para computar $f(1)$ digitamos:"
   ]
  },
  {
   "cell_type": "code",
   "execution_count": 5,
   "metadata": {},
   "outputs": [
    {
     "data": {
      "image/png": "[encoded data removed]",
      "text/latex": [
       "$$-1$$"
      ],
      "text/plain": [
       "-1"
      ]
     },
     "execution_count": 5,
     "metadata": {},
     "output_type": "execute_result"
    }
   ],
   "source": [
    "f(1)"
   ]
  },
  {
   "cell_type": "markdown",
   "metadata": {},
   "source": [
    "Note que a saída aparece na linha abaixo da entrada $f(1)$. Isto é, $f(1) = -1$. Podemos, inclusive utilizar argumentos simbólicos, como:"
   ]
  },
  {
   "cell_type": "code",
   "execution_count": 6,
   "metadata": {},
   "outputs": [
    {
     "data": {
      "image/png": "[encoded data removed]",
      "text/latex": [
       "$$\\left(- 3 x + \\left(x - 2\\right)^{3} + 8\\right) e^{- \\frac{x}{4} + \\frac{1}{2}} - 1$$"
      ],
      "text/plain": [
       "                         x   1    \n",
       "                       - ─ + ─    \n",
       "⎛              3    ⎞    4   2    \n",
       "⎝-3⋅x + (x - 2)  + 8⎠⋅ℯ        - 1"
      ]
     },
     "execution_count": 6,
     "metadata": {},
     "output_type": "execute_result"
    }
   ],
   "source": [
    "f(x-2)"
   ]
  },
  {
   "cell_type": "markdown",
   "metadata": {},
   "source": [
    "Aqui, a saída significa que $f(x-2) = (-3x + (x-2)^3 + 8)e^{-\\frac{x}{4} + \\frac{1}{2}} - 1$, o que pode ser imediatamente verificado."
   ]
  },
  {
   "cell_type": "markdown",
   "metadata": {},
   "source": [
    "#### Exemplo:"
   ]
  },
  {
   "cell_type": "markdown",
   "metadata": {},
   "source": [
    "Dada $g(x) = 2 - \\sqrt{x^2 - 1}$, encontre $g(1)$, $g(0)$ e $g(2t)$."
   ]
  },
  {
   "cell_type": "markdown",
   "metadata": {},
   "source": [
    "Solução:"
   ]
  },
  {
   "cell_type": "code",
   "execution_count": 7,
   "metadata": {},
   "outputs": [
    {
     "data": {
      "image/png": "[encoded data removed]",
      "text/latex": [
       "$$\\left( x \\mapsto - \\sqrt{x^{2} - 1} + 2 \\right)$$"
      ],
      "text/plain": [
       "         ________    \n",
       "        ╱  2         \n",
       "x ↦ - ╲╱  x  - 1  + 2"
      ]
     },
     "execution_count": 7,
     "metadata": {},
     "output_type": "execute_result"
    }
   ],
   "source": [
    "g = Lambda(x, 2 - sqrt(x**2 - 1))\n",
    "g"
   ]
  },
  {
   "cell_type": "code",
   "execution_count": 8,
   "metadata": {},
   "outputs": [
    {
     "data": {
      "image/png": "[encoded data removed]",
      "text/latex": [
       "$$2$$"
      ],
      "text/plain": [
       "2"
      ]
     },
     "execution_count": 8,
     "metadata": {},
     "output_type": "execute_result"
    }
   ],
   "source": [
    "g(1)"
   ]
  },
  {
   "cell_type": "code",
   "execution_count": 9,
   "metadata": {},
   "outputs": [
    {
     "data": {
      "image/png": "[encoded data removed]",
      "text/latex": [
       "$$2 - i$$"
      ],
      "text/plain": [
       "2 - ⅈ"
      ]
     },
     "execution_count": 9,
     "metadata": {},
     "output_type": "execute_result"
    }
   ],
   "source": [
    "g(0)"
   ]
  },
  {
   "cell_type": "markdown",
   "metadata": {},
   "source": [
    "Note que o sympy assume o domínio e a imagem da função como sendo um subconjunto dos números complexos. Além disso, antes de calcularmos $g(2t)$ precisamos definir $t$ como uma variável simbólica. Para que $t$ seja tratado como uma variável real, usamos o seguinte comando:"
   ]
  },
  {
   "cell_type": "code",
   "execution_count": 10,
   "metadata": {},
   "outputs": [
    {
     "data": {
      "image/png": "[encoded data removed]",
      "text/latex": [
       "$$t$$"
      ],
      "text/plain": [
       "t"
      ]
     },
     "execution_count": 10,
     "metadata": {},
     "output_type": "execute_result"
    }
   ],
   "source": [
    "var('t', real=True)"
   ]
  },
  {
   "cell_type": "markdown",
   "metadata": {},
   "source": [
    "Finalmente, computamos $g(2t)$ com:"
   ]
  },
  {
   "cell_type": "code",
   "execution_count": 11,
   "metadata": {},
   "outputs": [
    {
     "data": {
      "image/png": "[encoded data removed]",
      "text/latex": [
       "$$- \\sqrt{4 t^{2} - 1} + 2$$"
      ],
      "text/plain": [
       "     __________    \n",
       "    ╱    2         \n",
       "- ╲╱  4⋅t  - 1  + 2"
      ]
     },
     "execution_count": 11,
     "metadata": {},
     "output_type": "execute_result"
    }
   ],
   "source": [
    "g(2*t)"
   ]
  },
  {
   "cell_type": "markdown",
   "metadata": {},
   "source": [
    "$\\blacktriangleleft$"
   ]
  },
  {
   "cell_type": "markdown",
   "metadata": {},
   "source": [
    "#### Exercício:"
   ]
  },
  {
   "cell_type": "markdown",
   "metadata": {},
   "source": [
    "Dada $h(x) = \\left|\\sqrt{x} - 1\\right| - 2\\text{sen}(x)$, encontre $h(\\pi)$, e $h(2u)$."
   ]
  },
  {
   "cell_type": "code",
   "execution_count": 12,
   "metadata": {},
   "outputs": [],
   "source": [
    "#digite a resposta aqui!"
   ]
  },
  {
   "cell_type": "markdown",
   "metadata": {},
   "source": [
    "### Esboço do Gráfico"
   ]
  },
  {
   "cell_type": "markdown",
   "metadata": {},
   "source": [
    "Para plotar o gráfico de uma função $f$ podemos usar o comando [`plot`](https://docs.sympy.org/latest/modules/plotting.html?highlight=plot#module-sympy.plotting.plot). Por exemplo, para a função $f$ definida anteriormente, temos:"
   ]
  },
  {
   "cell_type": "code",
   "execution_count": 13,
   "metadata": {},
   "outputs": [
    {
     "data": {
      "image/png": "[encoded data removed]",
      "text/plain": [
       "<matplotlib.figure.Figure at 0x7fd603c79358>"
      ]
     },
     "metadata": {},
     "output_type": "display_data"
    },
    {
     "data": {
      "text/plain": [
       "<sympy.plotting.plot.Plot at 0x7fd603c792b0>"
      ]
     },
     "execution_count": 13,
     "metadata": {},
     "output_type": "execute_result"
    }
   ],
   "source": [
    "%matplotlib inline\n",
    "plot(f(x))"
   ]
  },
  {
   "cell_type": "markdown",
   "metadata": {},
   "source": [
    "- **Observação 1**: A \"linha mágica\" `%matplotlib inline` faz com que o gráfico apareça na mesma janela do ambiente. Sem esta linha, uma janela gráfica externa será aberta, quando disponível.\n",
    "\n",
    "- **Observação 2**: O comando `plot(f(x))` tenta advinhar uma caixa gráfica adequada. Podemos alterar a caixa, informando o intervalo dos pontos de abscissa que gostaríamos de ver. Por exemplo:"
   ]
  },
  {
   "cell_type": "code",
   "execution_count": 14,
   "metadata": {},
   "outputs": [
    {
     "data": {
      "image/png": "[encoded data removed]",
      "text/plain": [
       "<matplotlib.figure.Figure at 0x7fd603f38978>"
      ]
     },
     "metadata": {},
     "output_type": "display_data"
    },
    {
     "data": {
      "text/plain": [
       "<sympy.plotting.plot.Plot at 0x7fd603c52780>"
      ]
     },
     "execution_count": 14,
     "metadata": {},
     "output_type": "execute_result"
    }
   ],
   "source": [
    "plot(f(x), (x, -2, 2))"
   ]
  },
  {
   "cell_type": "markdown",
   "metadata": {},
   "source": [
    "#### Exercício:"
   ]
  },
  {
   "cell_type": "markdown",
   "metadata": {},
   "source": [
    "Faça o esboço do gráfico de $\\displaystyle g(x) = 2\\text{tg}\\left(x+\\frac{\\pi}{3}\\right)$ restrita ao intervalo $\\displaystyle \\left(-\\frac{5\\pi}{6}, \\frac{\\pi}{6}\\right)$."
   ]
  },
  {
   "cell_type": "code",
   "execution_count": 15,
   "metadata": {},
   "outputs": [],
   "source": [
    "#digite sua resolução aqui!"
   ]
  },
  {
   "cell_type": "markdown",
   "metadata": {},
   "source": [
    "### Zeros de uma Função"
   ]
  },
  {
   "cell_type": "markdown",
   "metadata": {},
   "source": [
    "O [SymPy](http://www.sympy.org/) conta com a função [`solve`](https://docs.sympy.org/latest/modules/solvers/solvers.html?highlight=solve#sympy.solvers.solvers.solve) para computar a solução de $f(x) = 0$. Por exemplo:"
   ]
  },
  {
   "cell_type": "code",
   "execution_count": 16,
   "metadata": {},
   "outputs": [
    {
     "data": {
      "image/png": "[encoded data removed]",
      "text/latex": [
       "$$\\left [ -1, \\quad 1\\right ]$$"
      ],
      "text/plain": [
       "[-1, 1]"
      ]
     },
     "execution_count": 16,
     "metadata": {},
     "output_type": "execute_result"
    }
   ],
   "source": [
    "solve(x**2-1, x)"
   ]
  },
  {
   "cell_type": "markdown",
   "metadata": {},
   "source": [
    "resolve $x^2 -1 = 0$. Entretanto a função [`solve`](https://docs.sympy.org/latest/modules/solvers/solvers.html?highlight=solve#sympy.solvers.solvers.solve) não resolve diretamente a equação $f(x) = 0$ definida anteriormente. Veja o que ocorre:\n",
    "[sympy]:http://www.sympy.org/"
   ]
  },
  {
   "cell_type": "code",
   "execution_count": 17,
   "metadata": {},
   "outputs": [
    {
     "ename": "NotImplementedError",
     "evalue": "multiple generators [x, exp(x/4)]\nNo algorithms are implemented to solve equation (x**3 - 3*x + 2)*exp(-x/4) - 1",
     "output_type": "error",
     "traceback": [
      "\u001b[0;31m---------------------------------------------------------------------------\u001b[0m",
      "\u001b[0;31mNotImplementedError\u001b[0m                       Traceback (most recent call last)",
      "\u001b[0;32m<ipython-input-17-c06002e10874>\u001b[0m in \u001b[0;36m<module>\u001b[0;34m()\u001b[0m\n\u001b[0;32m----> 1\u001b[0;31m \u001b[0msolve\u001b[0m\u001b[0;34m(\u001b[0m\u001b[0mf\u001b[0m\u001b[0;34m(\u001b[0m\u001b[0mx\u001b[0m\u001b[0;34m)\u001b[0m\u001b[0;34m,\u001b[0m \u001b[0mx\u001b[0m\u001b[0;34m)\u001b[0m\u001b[0;34m\u001b[0m\u001b[0;34m\u001b[0m\u001b[0m\n\u001b[0m",
      "\u001b[0;32m/usr/lib/python3/dist-packages/sympy/solvers/solvers.py\u001b[0m in \u001b[0;36msolve\u001b[0;34m(f, *symbols, **flags)\u001b[0m\n\u001b[1;32m   1063\u001b[0m     \u001b[0;31m###########################################################################\u001b[0m\u001b[0;34m\u001b[0m\u001b[0;34m\u001b[0m\u001b[0;34m\u001b[0m\u001b[0m\n\u001b[1;32m   1064\u001b[0m     \u001b[0;32mif\u001b[0m \u001b[0mbare_f\u001b[0m\u001b[0;34m:\u001b[0m\u001b[0;34m\u001b[0m\u001b[0;34m\u001b[0m\u001b[0m\n\u001b[0;32m-> 1065\u001b[0;31m         \u001b[0msolution\u001b[0m \u001b[0;34m=\u001b[0m \u001b[0m_solve\u001b[0m\u001b[0;34m(\u001b[0m\u001b[0mf\u001b[0m\u001b[0;34m[\u001b[0m\u001b[0;36m0\u001b[0m\u001b[0;34m]\u001b[0m\u001b[0;34m,\u001b[0m \u001b[0;34m*\u001b[0m\u001b[0msymbols\u001b[0m\u001b[0;34m,\u001b[0m \u001b[0;34m**\u001b[0m\u001b[0mflags\u001b[0m\u001b[0;34m)\u001b[0m\u001b[0;34m\u001b[0m\u001b[0;34m\u001b[0m\u001b[0m\n\u001b[0m\u001b[1;32m   1066\u001b[0m     \u001b[0;32melse\u001b[0m\u001b[0;34m:\u001b[0m\u001b[0;34m\u001b[0m\u001b[0;34m\u001b[0m\u001b[0m\n\u001b[1;32m   1067\u001b[0m         \u001b[0msolution\u001b[0m \u001b[0;34m=\u001b[0m \u001b[0m_solve_system\u001b[0m\u001b[0;34m(\u001b[0m\u001b[0mf\u001b[0m\u001b[0;34m,\u001b[0m \u001b[0msymbols\u001b[0m\u001b[0;34m,\u001b[0m \u001b[0;34m**\u001b[0m\u001b[0mflags\u001b[0m\u001b[0;34m)\u001b[0m\u001b[0;34m\u001b[0m\u001b[0;34m\u001b[0m\u001b[0m\n",
      "\u001b[0;32m/usr/lib/python3/dist-packages/sympy/solvers/solvers.py\u001b[0m in \u001b[0;36m_solve\u001b[0;34m(f, *symbols, **flags)\u001b[0m\n\u001b[1;32m   1632\u001b[0m \u001b[0;34m\u001b[0m\u001b[0m\n\u001b[1;32m   1633\u001b[0m     \u001b[0;32mif\u001b[0m \u001b[0mresult\u001b[0m \u001b[0;32mis\u001b[0m \u001b[0;32mFalse\u001b[0m\u001b[0;34m:\u001b[0m\u001b[0;34m\u001b[0m\u001b[0;34m\u001b[0m\u001b[0m\n\u001b[0;32m-> 1634\u001b[0;31m         \u001b[0;32mraise\u001b[0m \u001b[0mNotImplementedError\u001b[0m\u001b[0;34m(\u001b[0m\u001b[0;34m'\\n'\u001b[0m\u001b[0;34m.\u001b[0m\u001b[0mjoin\u001b[0m\u001b[0;34m(\u001b[0m\u001b[0;34m[\u001b[0m\u001b[0mmsg\u001b[0m\u001b[0;34m,\u001b[0m \u001b[0mnot_impl_msg\u001b[0m \u001b[0;34m%\u001b[0m \u001b[0mf\u001b[0m\u001b[0;34m]\u001b[0m\u001b[0;34m)\u001b[0m\u001b[0;34m)\u001b[0m\u001b[0;34m\u001b[0m\u001b[0;34m\u001b[0m\u001b[0m\n\u001b[0m\u001b[1;32m   1635\u001b[0m \u001b[0;34m\u001b[0m\u001b[0m\n\u001b[1;32m   1636\u001b[0m     \u001b[0;32mif\u001b[0m \u001b[0mflags\u001b[0m\u001b[0;34m.\u001b[0m\u001b[0mget\u001b[0m\u001b[0;34m(\u001b[0m\u001b[0;34m'simplify'\u001b[0m\u001b[0;34m,\u001b[0m \u001b[0;32mTrue\u001b[0m\u001b[0;34m)\u001b[0m\u001b[0;34m:\u001b[0m\u001b[0;34m\u001b[0m\u001b[0;34m\u001b[0m\u001b[0m\n",
      "\u001b[0;31mNotImplementedError\u001b[0m: multiple generators [x, exp(x/4)]\nNo algorithms are implemented to solve equation (x**3 - 3*x + 2)*exp(-x/4) - 1"
     ]
    }
   ],
   "source": [
    "solve(f(x), x)"
   ]
  },
  {
   "cell_type": "markdown",
   "metadata": {},
   "source": [
    "A última linha da mensagem de erro nos diz que o [`solve`](https://docs.sympy.org/latest/modules/solvers/solvers.html?highlight=solve#sympy.solvers.solvers.solve) não contém um algoritmo para resolver $f(x) = 0$, no caso da $f(x)$ dada. Alternativamente, podemos usar a função [`nsolve`](https://docs.sympy.org/latest/modules/solvers/solvers.html?highlight=nsolve#sympy.solvers.solvers.nsolve) que usa um algoritmo numérico para encontrar uma solução para o problema.\n",
    "\n",
    "Vejamos como usar esta função [`nsolve`](https://docs.sympy.org/latest/modules/solvers/solvers.html?highlight=nsolve#sympy.solvers.solvers.nsolve):"
   ]
  },
  {
   "cell_type": "code",
   "execution_count": 18,
   "metadata": {},
   "outputs": [
    {
     "data": {
      "image/png": "[encoded data removed]",
      "text/latex": [
       "$$-1.92796526009401$$"
      ],
      "text/plain": [
       "-1.92796526009401"
      ]
     },
     "execution_count": 18,
     "metadata": {},
     "output_type": "execute_result"
    }
   ],
   "source": [
    "nsolve(f(x), x, -2)"
   ]
  },
  {
   "cell_type": "code",
   "execution_count": 19,
   "metadata": {},
   "outputs": [
    {
     "data": {
      "image/png": "[encoded data removed]",
      "text/latex": [
       "$$0.31645451718964$$"
      ],
      "text/plain": [
       "0.316454517189640"
      ]
     },
     "execution_count": 19,
     "metadata": {},
     "output_type": "execute_result"
    }
   ],
   "source": [
    "nsolve(f(x), x, 0)"
   ]
  },
  {
   "cell_type": "code",
   "execution_count": 20,
   "metadata": {},
   "outputs": [
    {
     "data": {
      "image/png": "[encoded data removed]",
      "text/latex": [
       "$$1.64337127911688$$"
      ],
      "text/plain": [
       "1.64337127911688"
      ]
     },
     "execution_count": 20,
     "metadata": {},
     "output_type": "execute_result"
    }
   ],
   "source": [
    "nsolve(f(x), x, 2)"
   ]
  },
  {
   "cell_type": "markdown",
   "metadata": {},
   "source": [
    "Na verdade, esta função $f(x)$ tem, ainda, um zero $x \\approx 45,\\!9162$. Discutiremos isso mais detalhadamente na próxima parte deste minicurso, quando estudarmos a computação de limites com o [SymPy](https://www.sympy.org). "
   ]
  },
  {
   "cell_type": "markdown",
   "metadata": {},
   "source": [
    "#### Exercício:"
   ]
  },
  {
   "cell_type": "markdown",
   "metadata": {},
   "source": [
    "Determine os zeros de $g(x) = \\text{sen}\\left(x-\\frac{\\pi}{3}\\right) + \\frac{1}{2}$."
   ]
  },
  {
   "cell_type": "code",
   "execution_count": null,
   "metadata": {},
   "outputs": [],
   "source": [
    "#digite a resolução aqui!"
   ]
  },
  {
   "cell_type": "markdown",
   "metadata": {},
   "source": [
    "## Referências\n",
    "\n",
    "+ [1] Python Software Fundation (US): [www.python.org](https://www.python.org/)\n",
    "\n",
    "+ [2] Sympy - Python Library for Symbolic Mathematics: [www.sympy.org](http://www.sympy.org/)\n",
    "\n",
    "## Ligações relacionadas\n",
    "\n",
    "+ [1] Sympy Gamma: [www.sympygamma.org](http://www.sympygamma.com/)\n",
    "+ [2] Sympy Live: [live.sympy.org](http://live.sympy.org/)\n",
    "+ [3] Jupyter: [https://jupyter.org/](https://jupyter.org/)\n",
    "+ [4] Binder: [https://mybinder.org/](https://mybinder.org/)"
   ]
  },
  {
   "cell_type": "markdown",
   "metadata": {},
   "source": [
    "#### Next Topic: 2 - Limites"
   ]
  },
  {
   "cell_type": "markdown",
   "metadata": {},
   "source": [
    "Criado: Out/2015 Última modificação: Out/2019"
   ]
  },
  {
   "cell_type": "code",
   "execution_count": null,
   "metadata": {},
   "outputs": [],
   "source": []
  }
 ],
 "metadata": {
  "kernelspec": {
   "display_name": "Python 3",
   "language": "python",
   "name": "python3"
  },
  "language_info": {
   "codemirror_mode": {
    "name": "ipython",
    "version": 3
   },
   "file_extension": ".py",
   "mimetype": "text/x-python",
   "name": "python",
   "nbconvert_exporter": "python",
   "pygments_lexer": "ipython3",
   "version": "3.6.8"
  },
  "name": "1-funcoes.ipynb"
 },
 "nbformat": 4,
 "nbformat_minor": 1
}
