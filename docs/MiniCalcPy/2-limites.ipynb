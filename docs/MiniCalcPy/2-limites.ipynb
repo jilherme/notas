{
 "cells": [
  {
   "cell_type": "markdown",
   "metadata": {},
   "source": [
    "# Cálculo com Python\n",
    "\n",
    "Nesta segunda parte do minicurso vamos estudar como calcular limites de funções de uma variável usando a biblioteca [Python][py] de matemática simbólica [SymPy][sy].\n",
    "\n",
    "[py]: https://www.python.org/\n",
    "[sy]: http://www.sympy.org"
   ]
  },
  {
   "cell_type": "markdown",
   "metadata": {},
   "source": [
    "## 2 - Limites\n",
    "\n",
    "Nesta segunda parte do minicurso vamos estudar a calcular no [Python][py]:\n",
    "\n",
    "+ limites no ponto\n",
    "\n",
    "+ limites laterais\n",
    "\n",
    "+ limites no infinito\n",
    "\n",
    "[py]: https://www.python.org/"
   ]
  },
  {
   "cell_type": "markdown",
   "metadata": {},
   "source": [
    "Começamos importando a biblioteca [SymPy][sy]:\n",
    "[sy]: http://www.sympy.org/en/index.html"
   ]
  },
  {
   "cell_type": "code",
   "execution_count": 1,
   "metadata": {},
   "outputs": [
    {
     "data": {
      "image/png": "[encoded data removed]",
      "text/latex": [
       "$$\\left ( x, \\quad y\\right )$$"
      ],
      "text/plain": [
       "(x, y)"
      ]
     },
     "execution_count": 1,
     "metadata": {},
     "output_type": "execute_result"
    }
   ],
   "source": [
    "from sympy import *\n",
    "init_printing()\n",
    "# define x e y como variáveis simbólicas\n",
    "var('x y')"
   ]
  },
  {
   "cell_type": "markdown",
   "metadata": {},
   "source": [
    "Agora, para fixarmos as ideias, vamos continuar nosso estudo sobre a \n",
    "\n",
    "$f(x) = (x^3 - 3x + 2)e^{-x/4} - 1$.\n",
    "\n",
    "Para, tanto vamos definí-la novamente:"
   ]
  },
  {
   "cell_type": "code",
   "execution_count": 2,
   "metadata": {},
   "outputs": [
    {
     "data": {
      "image/png": "[encoded data removed]",
      "text/latex": [
       "$$\\left( x \\mapsto \\left(x^{3} - 3 x + 2\\right) e^{- \\frac{x}{4}} - 1 \\right)$$"
      ],
      "text/plain": [
       "                    -x     \n",
       "                    ───    \n",
       "    ⎛ 3          ⎞   4     \n",
       "x ↦ ⎝x  - 3⋅x + 2⎠⋅ℯ    - 1"
      ]
     },
     "execution_count": 2,
     "metadata": {},
     "output_type": "execute_result"
    }
   ],
   "source": [
    "f = Lambda(x, (x**3 - 3*x + 2)*exp(-x/4)-1)\n",
    "f"
   ]
  },
  {
   "cell_type": "markdown",
   "metadata": {},
   "source": [
    "Estamos prontos para iniciar nosso estudo sobre limites com [Python][py].\n",
    "[py]:https://www.python.org/"
   ]
  },
  {
   "cell_type": "markdown",
   "metadata": {},
   "source": [
    "### Limites no ponto"
   ]
  },
  {
   "cell_type": "markdown",
   "metadata": {},
   "source": [
    "Podemos usar o [SymPy](https://www.sympy.org) para calcular o limite de uma função $f(x)$ quando $x$ tende a um ponto $a$, i.e. \n",
    "\n",
    "$\\displaystyle \\lim_{x\\to a} f(x)$.\n",
    "\n",
    "Como exemplo, vamos calcular\n",
    "\n",
    "$\\displaystyle \\lim_{x\\to 1} f(x)$\n",
    "\n",
    "para a função definida acima. Para tanto, podemos usar a função [`limit`](https://docs.sympy.org/latest/modules/series/series.html?highlight=limit#sympy.series.limits.limit):"
   ]
  },
  {
   "cell_type": "code",
   "execution_count": 3,
   "metadata": {},
   "outputs": [
    {
     "data": {
      "image/png": "[encoded data removed]",
      "text/latex": [
       "$$-1$$"
      ],
      "text/plain": [
       "-1"
      ]
     },
     "execution_count": 3,
     "metadata": {},
     "output_type": "execute_result"
    }
   ],
   "source": [
    "limit(f(x),x,1)"
   ]
  },
  {
   "cell_type": "markdown",
   "metadata": {},
   "source": [
    "Note que este é o valor esperado, pois $f(x)$ é uma função contínua e já haviamos visto que $f(1) = -1$ (verifique!)."
   ]
  },
  {
   "cell_type": "markdown",
   "metadata": {},
   "source": [
    "#### Exercício"
   ]
  },
  {
   "cell_type": "markdown",
   "metadata": {},
   "source": [
    "Considere a seguinte a função $g(x) = 2 - \\sqrt{x^2 - 1}$. Calcule \n",
    "\n",
    "$\\displaystyle \\lim_{x\\to -1} g(x)$."
   ]
  },
  {
   "cell_type": "code",
   "execution_count": 4,
   "metadata": {},
   "outputs": [],
   "source": [
    "#digite sua resposta aqui!"
   ]
  },
  {
   "cell_type": "markdown",
   "metadata": {},
   "source": [
    "### Limites Lateriais\n",
    "\n",
    "Por padrão, o comando [`limit`](https://docs.sympy.org/latest/modules/series/series.html?highlight=limit#sympy.series.limits.limit) computa o limite lateral pela direita. Por exemplo:\n",
    "\n",
    "$\\displaystyle \\lim_{x\\to 0} \\frac{|x|}{x} = \\not\\exists$\n",
    "\n",
    "mas,\n",
    "\n",
    "$\\displaystyle \\lim_{x\\to 0^+} \\frac{|x|}{x} = 1$\n",
    "\n",
    "e, no [SymPy](https://www.sympy.org/):"
   ]
  },
  {
   "cell_type": "code",
   "execution_count": 5,
   "metadata": {},
   "outputs": [
    {
     "data": {
      "image/png": "[encoded data removed]",
      "text/latex": [
       "$$1$$"
      ],
      "text/plain": [
       "1"
      ]
     },
     "execution_count": 5,
     "metadata": {},
     "output_type": "execute_result"
    }
   ],
   "source": [
    "limit(abs(x)/x,x,0)"
   ]
  },
  {
   "cell_type": "markdown",
   "metadata": {},
   "source": [
    "Para calcularmos o limite pela esquerda, i.e.:\n",
    "\n",
    "$\\displaystyle \\lim_{x\\to 0^-} \\frac{|x|}{x} = -1$\n",
    "\n",
    "digitamos:"
   ]
  },
  {
   "cell_type": "code",
   "execution_count": 6,
   "metadata": {},
   "outputs": [
    {
     "data": {
      "image/png": "[encoded data removed]",
      "text/latex": [
       "$$-1$$"
      ],
      "text/plain": [
       "-1"
      ]
     },
     "execution_count": 6,
     "metadata": {},
     "output_type": "execute_result"
    }
   ],
   "source": [
    "limit(abs(x)/x,x,0,'-')"
   ]
  },
  {
   "cell_type": "markdown",
   "metadata": {},
   "source": [
    "#### Exercício:"
   ]
  },
  {
   "cell_type": "markdown",
   "metadata": {},
   "source": [
    "Compute \n",
    "\n",
    "$\\displaystyle \\lim_{x\\to 0} \\frac{1}{x}$. \n",
    "\n",
    "Este limite existe? Caso o limite não exista, calcule os limites laterais correspondentes."
   ]
  },
  {
   "cell_type": "code",
   "execution_count": 7,
   "metadata": {},
   "outputs": [],
   "source": [
    "#digite sua resposta aqui!"
   ]
  },
  {
   "cell_type": "markdown",
   "metadata": {},
   "source": [
    "### Limites no infinito"
   ]
  },
  {
   "cell_type": "markdown",
   "metadata": {},
   "source": [
    "Também podemos usar o comando [`limit`](https://docs.sympy.org/latest/modules/series/series.html?highlight=limit#sympy.series.limits.limit) para computar limites no infinito. Por exemplo, vejamos o limite de:\n",
    "\n",
    "$\\displaystyle \\lim_{x\\to \\infty} f(x) = -1$"
   ]
  },
  {
   "cell_type": "code",
   "execution_count": 8,
   "metadata": {},
   "outputs": [
    {
     "data": {
      "image/png": "[encoded data removed]",
      "text/latex": [
       "$$-1$$"
      ],
      "text/plain": [
       "-1"
      ]
     },
     "execution_count": 8,
     "metadata": {},
     "output_type": "execute_result"
    }
   ],
   "source": [
    "limit(f(x), x, oo)"
   ]
  },
  {
   "cell_type": "markdown",
   "metadata": {},
   "source": [
    "Agora, vamos computar:\n",
    "\n",
    "$\\displaystyle \\lim_{x\\to -\\infty} f(x)$\n",
    "\n",
    "(você saberia dizer quanto vale este limite?)"
   ]
  },
  {
   "cell_type": "code",
   "execution_count": 9,
   "metadata": {},
   "outputs": [
    {
     "data": {
      "image/png": "[encoded data removed]",
      "text/latex": [
       "$$-\\infty$$"
      ],
      "text/plain": [
       "-∞"
      ]
     },
     "execution_count": 9,
     "metadata": {},
     "output_type": "execute_result"
    }
   ],
   "source": [
    "limit(f(x), x, -oo)"
   ]
  },
  {
   "cell_type": "markdown",
   "metadata": {},
   "source": [
    "Opa! O \n",
    "\n",
    "$\\displaystyle \\lim_{x\\to\\infty} f(x) = -1$ \n",
    "\n",
    "nos indica que $f(x)$, de fato, tem pelo menos mais um zero à direita de $x \\approx 1,643$ (veja a discussão ao final da parte 1-funções deste minicurso). Ao plotarmos o gráfico de $f(x)$ para valor maiores de $x$, obtemos"
   ]
  },
  {
   "cell_type": "code",
   "execution_count": 10,
   "metadata": {},
   "outputs": [
    {
     "data": {
      "image/png": "[encoded data removed]",
      "text/plain": [
       "<matplotlib.figure.Figure at 0x7fad04fc2b00>"
      ]
     },
     "metadata": {},
     "output_type": "display_data"
    },
    {
     "data": {
      "text/plain": [
       "<sympy.plotting.plot.Plot at 0x7fad0531be10>"
      ]
     },
     "execution_count": 10,
     "metadata": {},
     "output_type": "execute_result"
    }
   ],
   "source": [
    "%matplotlib inline\n",
    "plot(f(x), (x, 40, 50))"
   ]
  },
  {
   "cell_type": "markdown",
   "metadata": {},
   "source": [
    "vemos que $f(x)$ tem um zero próximo de $x = 46$. Confirmamos isso calculando:"
   ]
  },
  {
   "cell_type": "code",
   "execution_count": 11,
   "metadata": {},
   "outputs": [
    {
     "data": {
      "image/png": "[encoded data removed]",
      "text/latex": [
       "$$45.9162038717966$$"
      ],
      "text/plain": [
       "45.9162038717966"
      ]
     },
     "execution_count": 11,
     "metadata": {},
     "output_type": "execute_result"
    }
   ],
   "source": [
    "nsolve(f(x), x, 46)"
   ]
  },
  {
   "cell_type": "markdown",
   "metadata": {},
   "source": [
    "#### Exercício:"
   ]
  },
  {
   "cell_type": "markdown",
   "metadata": {},
   "source": [
    "Encontre:\n",
    "\n",
    "(a) $\\displaystyle \\lim_{x\\to \\infty} \\left(1 + \\frac{1}{x}\\right)^x$\n",
    "\n",
    "(b) $\\displaystyle \\lim_{x\\to -\\infty} \\left(1 + \\frac{1}{2x}\\right)^{x}$"
   ]
  },
  {
   "cell_type": "code",
   "execution_count": 12,
   "metadata": {},
   "outputs": [],
   "source": [
    "# digite sua solução aqui!"
   ]
  },
  {
   "cell_type": "markdown",
   "metadata": {},
   "source": [
    "#### Exercício:"
   ]
  },
  {
   "cell_type": "markdown",
   "metadata": {},
   "source": [
    "Existe o $\\displaystyle \\lim_{x\\to \\infty} \\text{sen}~x$?"
   ]
  },
  {
   "cell_type": "code",
   "execution_count": 13,
   "metadata": {},
   "outputs": [],
   "source": [
    "#Digite sua resolução aqui."
   ]
  },
  {
   "cell_type": "markdown",
   "metadata": {},
   "source": [
    "## Referências\n",
    "\n",
    "+ [1] Python Software Fundation (US): [www.python.org][python]\n",
    "\n",
    "+ [2] Sympy - Python Library for Symbolic Mathematics: [www.sympy.org][sympy]\n",
    "\n",
    "## Related links\n",
    "\n",
    "+ [1] Sympy Gamma: [www.sympygamma.org][sympygamma]\n",
    "+ [2] Sympy Live: [live.sympy.org][sympylive]\n",
    "+ [3] Jupyter: [https://jupyter.org/](https://jupyter.org/)\n",
    "+ [4] Binder: [https://mybinder.org/](https://mybinder.org/)\n",
    "\n",
    "\n",
    "[python]: https://www.python.org/\n",
    "[sympy]: http://www.sympy.org/en/index.html\n",
    "[sympygamma]: http://www.sympygamma.com/\n",
    "[sympylive]: http://live.sympy.org/"
   ]
  },
  {
   "cell_type": "markdown",
   "metadata": {},
   "source": [
    "#### Próxima parte: 3 - Derivadas. "
   ]
  },
  {
   "cell_type": "code",
   "execution_count": null,
   "metadata": {},
   "outputs": [],
   "source": []
  }
 ],
 "metadata": {
  "kernelspec": {
   "display_name": "Python 3",
   "language": "python",
   "name": "python3"
  },
  "language_info": {
   "codemirror_mode": {
    "name": "ipython",
    "version": 3
   },
   "file_extension": ".py",
   "mimetype": "text/x-python",
   "name": "python",
   "nbconvert_exporter": "python",
   "pygments_lexer": "ipython3",
   "version": "3.6.8"
  },
  "name": "2-limites.ipynb"
 },
 "nbformat": 4,
 "nbformat_minor": 1
}
