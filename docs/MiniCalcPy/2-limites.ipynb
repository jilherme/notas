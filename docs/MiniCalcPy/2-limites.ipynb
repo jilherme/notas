{
 "cells": [
  {
   "cell_type": "markdown",
   "metadata": {},
   "source": [
    "Este trabalho está licenciado sob a Licença Atribuição 4.0 Internacional Creative Commons. Para visualizar uma cópia desta licença, visite http://creativecommons.org/licenses/by/4.0/ ou mande uma carta para Creative Commons, PO Box 1866, Mountain View, CA 94042, USA.\n",
    "\n",
    "Autor/Instituição: Pedro H A Konzen / UFRGS\n",
    "\n",
    "pedro.konzen@ufrgs.br\n",
    "\n",
    "Data: Out/2015"
   ]
  },
  {
   "cell_type": "markdown",
   "metadata": {},
   "source": [
    "# Cálculo com Python\n",
    "\n",
    "Nesta segunda parte do curso vamos estudar como calcular limites de funções de uma variável usando a biblioteca [Python][py] de matemática simbólica [Sympy][sy].\n",
    "\n",
    "[py]: https://www.python.org/\n",
    "[sy]: http://www.sympy.org/en/index.html"
   ]
  },
  {
   "cell_type": "markdown",
   "metadata": {},
   "source": [
    "## 2 - Limites\n",
    "\n",
    "Nesta segunda parte do curso você aprenderá a calcular no [Python][py]:\n",
    "\n",
    "+ limites no ponto\n",
    "\n",
    "+ limites laterais\n",
    "\n",
    "+ limites no infinito\n",
    "\n",
    "[py]: https://www.python.org/"
   ]
  },
  {
   "cell_type": "markdown",
   "metadata": {},
   "source": [
    "Começamos importando a biblioteca [Sympy][sy]:\n",
    "[sy]: http://www.sympy.org/en/index.html"
   ]
  },
  {
   "cell_type": "code",
   "execution_count": 1,
   "metadata": {
    "collapsed": false
   },
   "outputs": [],
   "source": [
    "from sympy import *\n",
    "init_printing()\n",
    "x, y = symbols('x y') #define x e y como variáveis simbólicas."
   ]
  },
  {
   "cell_type": "markdown",
   "metadata": {},
   "source": [
    "Agora, para fixarmos as ideias, vamos continuar nosso estudo sobre a \n",
    "\n",
    "$f(x) = (x^3 - 3x + 2)e^{-x/4} - 1$.\n",
    "\n",
    "Para, tanto vamos definí-la novamente:"
   ]
  },
  {
   "cell_type": "code",
   "execution_count": 2,
   "metadata": {
    "collapsed": false
   },
   "outputs": [
    {
     "data": {
      "image/png": "[encoded data removed]",
      "text/latex": [
       "$$\\left(x^{3} - 3 x + 2\\right) e^{- \\frac{x}{4}} - 1$$"
      ],
      "text/plain": [
       "                -x     \n",
       "                ───    \n",
       "⎛ 3          ⎞   4     \n",
       "⎝x  - 3⋅x + 2⎠⋅ℯ    - 1"
      ]
     },
     "execution_count": 2,
     "metadata": {},
     "output_type": "execute_result"
    }
   ],
   "source": [
    "def f(x): \n",
    "    return (x**3 - 3*x + 2)*exp(-x/4)-1\n",
    "f(x)"
   ]
  },
  {
   "cell_type": "markdown",
   "metadata": {},
   "source": [
    "Estamos prontos para iniciar nosso estudo sobre limites com [Python][py].\n",
    "[py]:https://www.python.org/"
   ]
  },
  {
   "cell_type": "markdown",
   "metadata": {},
   "source": [
    "### Limites no ponto"
   ]
  },
  {
   "cell_type": "markdown",
   "metadata": {},
   "source": [
    "Podemos usar o sympy para calcular o limite de uma função $f(x)$ quando $x$ tende a um ponto $a$, i.e. $lim_{x\\to a} f(x)$.\n",
    "\n",
    "No caso da função $f(x)$ definida acima, podemos, por exemplo, calcular:\n",
    "\n",
    "$\\lim_{x\\to 1} f(x)$\n",
    "\n",
    "usando a função [$\\verb+limit+$][limit]:\n",
    "[limit]:http://docs.sympy.org/latest/modules/series.html?highlight=limit#sympy.series.limits.Limit"
   ]
  },
  {
   "cell_type": "code",
   "execution_count": 3,
   "metadata": {
    "collapsed": false
   },
   "outputs": [
    {
     "data": {
      "image/png": "[encoded data removed]",
      "text/latex": [
       "$$-1$$"
      ],
      "text/plain": [
       "-1"
      ]
     },
     "execution_count": 3,
     "metadata": {},
     "output_type": "execute_result"
    }
   ],
   "source": [
    "limit(f(x),x,1)"
   ]
  },
  {
   "cell_type": "markdown",
   "metadata": {},
   "source": [
    "Note que este é o valor esperado, pois $f(x)$ é uma função contínua e já haviamos visto que $f(1) = -1$ (verifique!)."
   ]
  },
  {
   "cell_type": "markdown",
   "metadata": {},
   "source": [
    "#### Exercício"
   ]
  },
  {
   "cell_type": "markdown",
   "metadata": {},
   "source": [
    "Considere a seguinte a função $g(x) = 2 - \\sqrt{x^2 - 1}$. Calcule $\\lim_{x\\to -1} g(x)$."
   ]
  },
  {
   "cell_type": "code",
   "execution_count": 4,
   "metadata": {
    "collapsed": true
   },
   "outputs": [],
   "source": [
    "#digite sua resposta aqui!"
   ]
  },
  {
   "cell_type": "markdown",
   "metadata": {},
   "source": [
    "A função do Sympy [$\\verb+Limit+$][Limit] descreve o limite sem calculá-lo. Veja:\n",
    "[Limit]: http://docs.sympy.org/latest/modules/series.html?highlight=limit#sympy.series.limits.Limit"
   ]
  },
  {
   "cell_type": "code",
   "execution_count": 5,
   "metadata": {
    "collapsed": false
   },
   "outputs": [
    {
     "data": {
      "image/png": "[encoded data removed]",
      "text/latex": [
       "$$\\lim_{x \\to 1^+}\\left(\\left(x^{3} - 3 x + 2\\right) e^{- \\frac{x}{4}} - 1\\right)$$"
      ],
      "text/plain": [
       "                     -x     \n",
       "                     ───    \n",
       "     ⎛ 3          ⎞   4     \n",
       " lim ⎝x  - 3⋅x + 2⎠⋅ℯ    - 1\n",
       "x─→1⁺                       "
      ]
     },
     "execution_count": 5,
     "metadata": {},
     "output_type": "execute_result"
    }
   ],
   "source": [
    "Limit(f(x),x,1)"
   ]
  },
  {
   "cell_type": "markdown",
   "metadata": {},
   "source": [
    "Observação: Note que o limite indicado trata-se do limite lateral a direita de $f(x)$ no ponto $x=1$. Isso ocorre, pois o [Sympy][sy] calcula, por padrão, o limite pela direita.\n",
    "[sy]:http://www.sympy.org/en/index.html"
   ]
  },
  {
   "cell_type": "markdown",
   "metadata": {},
   "source": [
    "### Limites Lateriais\n",
    "\n",
    "O comando [$\\verb+limit+$][limit] calcula, por padrão, o limite lateral pela direita. Por exemplo:\n",
    "\n",
    "$\\lim_{x\\to 0} \\frac{|x|}{x} = \\not\\exists$\n",
    "\n",
    "mas,\n",
    "\n",
    "$\\lim_{x\\to 0^+} \\frac{|x|}{x} = 1$\n",
    "\n",
    "e, no Sympy:\n",
    "\n",
    "\n",
    "[limit]: http://docs.sympy.org/latest/modules/series.html?highlight=limit#sympy.series.limits.Limit"
   ]
  },
  {
   "cell_type": "code",
   "execution_count": 6,
   "metadata": {
    "collapsed": false
   },
   "outputs": [
    {
     "data": {
      "image/png": "[encoded data removed]",
      "text/latex": [
       "$$1$$"
      ],
      "text/plain": [
       "1"
      ]
     },
     "execution_count": 6,
     "metadata": {},
     "output_type": "execute_result"
    }
   ],
   "source": [
    "limit(abs(x)/x,x,0)"
   ]
  },
  {
   "cell_type": "markdown",
   "metadata": {},
   "source": [
    "Para calcularmos o limite pela esquerda, i.e.:\n",
    "\n",
    "$\\lim_{x\\to o^-} \\frac{|x|}{x} = -1$\n",
    "\n",
    "podemos digitar:"
   ]
  },
  {
   "cell_type": "code",
   "execution_count": 7,
   "metadata": {
    "collapsed": false
   },
   "outputs": [
    {
     "data": {
      "image/png": "[encoded data removed]",
      "text/latex": [
       "$$-1$$"
      ],
      "text/plain": [
       "-1"
      ]
     },
     "execution_count": 7,
     "metadata": {},
     "output_type": "execute_result"
    }
   ],
   "source": [
    "limit(abs(x)/x,x,0,'-')"
   ]
  },
  {
   "cell_type": "markdown",
   "metadata": {},
   "source": [
    "#### Exercício:"
   ]
  },
  {
   "cell_type": "markdown",
   "metadata": {},
   "source": [
    "Calcule $\\lim_{x\\to 0} \\frac{1}{x}$. Este limite existe? Caso o limite não exista, calcule os limites laterais correspondentes."
   ]
  },
  {
   "cell_type": "code",
   "execution_count": 8,
   "metadata": {
    "collapsed": false
   },
   "outputs": [],
   "source": [
    "#sol.:"
   ]
  },
  {
   "cell_type": "markdown",
   "metadata": {},
   "source": [
    "### Limites no infinito"
   ]
  },
  {
   "cell_type": "markdown",
   "metadata": {},
   "source": [
    "Também podemos usar o comando [$\\verb|limit|$][limit] para calcular limites no infinito. Por exemplo, vejamos o limite o limite de:\n",
    "\n",
    "$\\lim_{x\\to \\infty} f(x) = -1$\n",
    "\n",
    "[limit]:http://docs.sympy.org/latest/tutorial/calculus#limits"
   ]
  },
  {
   "cell_type": "code",
   "execution_count": 9,
   "metadata": {
    "collapsed": false
   },
   "outputs": [
    {
     "data": {
      "image/png": "[encoded data removed]",
      "text/latex": [
       "$$-1$$"
      ],
      "text/plain": [
       "-1"
      ]
     },
     "execution_count": 9,
     "metadata": {},
     "output_type": "execute_result"
    }
   ],
   "source": [
    "limit(f(x),x,oo)"
   ]
  },
  {
   "cell_type": "markdown",
   "metadata": {},
   "source": [
    "Agora, vamos calcular:\n",
    "\n",
    "$\\lim_{x\\to -\\infty} f(x)$\n",
    "\n",
    "(você saberia dizer quanto vale este limite?)"
   ]
  },
  {
   "cell_type": "code",
   "execution_count": 10,
   "metadata": {
    "collapsed": false
   },
   "outputs": [
    {
     "data": {
      "image/png": "[encoded data removed]",
      "text/latex": [
       "$$-\\infty$$"
      ],
      "text/plain": [
       "-∞"
      ]
     },
     "execution_count": 10,
     "metadata": {},
     "output_type": "execute_result"
    }
   ],
   "source": [
    "limit(f(x),x,-oo)"
   ]
  },
  {
   "cell_type": "markdown",
   "metadata": {
    "collapsed": false
   },
   "source": [
    "Wow! O $\\lim_{x\\to\\infty} f(x) = -1$ nos indica que $f(x)$, de fato, tem pelo menos mais um zero a esquerda de $x \\approx 1,643$ (veja a discussão ao final da parte 1-funções deste curso). Se fizermos gráfico de $f(x)$ para valor maiores de $x$, por exemplo, $x\\in (40,50)$:"
   ]
  },
  {
   "cell_type": "code",
   "execution_count": 11,
   "metadata": {
    "collapsed": false
   },
   "outputs": [
    {
     "data": {
      "image/png": "[encoded data removed]",
      "text/plain": [
       "<matplotlib.figure.Figure at 0x7f8bedc72748>"
      ]
     },
     "metadata": {},
     "output_type": "display_data"
    },
    {
     "data": {
      "text/plain": [
       "<sympy.plotting.plot.Plot at 0x7f8bedc72dd8>"
      ]
     },
     "execution_count": 11,
     "metadata": {},
     "output_type": "execute_result"
    }
   ],
   "source": [
    "%matplotlib inline\n",
    "plot(f(x),(x,40,50))"
   ]
  },
  {
   "cell_type": "markdown",
   "metadata": {},
   "source": [
    "vemos que $f(x)$ tem um zero próximo de $x = 46$. Confirmamos isso calculando:"
   ]
  },
  {
   "cell_type": "code",
   "execution_count": 12,
   "metadata": {
    "collapsed": false
   },
   "outputs": [
    {
     "name": "stdout",
     "output_type": "stream",
     "text": [
      "45.9162038717966\n"
     ]
    }
   ],
   "source": [
    "print(nsolve(f(x),x,46))"
   ]
  },
  {
   "cell_type": "markdown",
   "metadata": {},
   "source": [
    "#### Exercício:"
   ]
  },
  {
   "cell_type": "markdown",
   "metadata": {},
   "source": [
    "Encontre:\n",
    "\n",
    "(a) $\\lim_{x\\to \\infty} \\left(1 + \\frac{1}{x}\\right)^x$\n",
    "\n",
    "(b) $\\lim_{x\\to -\\infty} \\left(1 + \\frac{1}{2x}\\right)^{x}$"
   ]
  },
  {
   "cell_type": "code",
   "execution_count": 13,
   "metadata": {
    "collapsed": false
   },
   "outputs": [],
   "source": [
    "#digite sua solução aqui!"
   ]
  },
  {
   "cell_type": "markdown",
   "metadata": {},
   "source": [
    "#### Exercício:"
   ]
  },
  {
   "cell_type": "markdown",
   "metadata": {},
   "source": [
    "Existe o $\\lim_{x\\to \\infty} \\text{sen} x$?"
   ]
  },
  {
   "cell_type": "code",
   "execution_count": 14,
   "metadata": {
    "collapsed": false
   },
   "outputs": [],
   "source": [
    "#Digite sua resolução aqui."
   ]
  },
  {
   "cell_type": "markdown",
   "metadata": {
    "collapsed": false
   },
   "source": [
    "## Referências\n",
    "\n",
    "+ [1] Python Software Fundation (US): [www.python.org][python]\n",
    "\n",
    "+ [2] Sympy - Python Library for Symbolic Mathematics: [www.sympy.org][sympy]\n",
    "\n",
    "## Related links\n",
    "\n",
    "+ [1] Sympy Gamma: [www.sympygamma.org][sympygamma]\n",
    "+ [2] Sympy Live: [live.sympy.org][sympylive]\n",
    "\n",
    "\n",
    "[python]: https://www.python.org/\n",
    "[sympy]: http://www.sympy.org/en/index.html\n",
    "[sympygamma]: http://www.sympygamma.com/\n",
    "[sympylive]: http://live.sympy.org/"
   ]
  },
  {
   "cell_type": "markdown",
   "metadata": {},
   "source": [
    "#### Próxima parte: 3 - Derivadas. "
   ]
  },
  {
   "cell_type": "code",
   "execution_count": null,
   "metadata": {
    "collapsed": true
   },
   "outputs": [],
   "source": []
  }
 ],
 "metadata": {
  "kernelspec": {
   "display_name": "Anaconda 3",
   "language": "python",
   "name": "anaconda3"
  },
  "language_info": {
   "codemirror_mode": {
    "name": "ipython",
    "version": 3
   },
   "file_extension": ".py",
   "mimetype": "text/x-python",
   "name": "python",
   "nbconvert_exporter": "python",
   "pygments_lexer": "ipython3",
   "version": "3.4.3"
  },
  "name": "2-limites.ipynb"
 },
 "nbformat": 4,
 "nbformat_minor": 0
}
