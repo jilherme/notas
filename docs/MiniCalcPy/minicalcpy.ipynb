{
 "cells": [
  {
   "cell_type": "markdown",
   "metadata": {},
   "source": [
    "# Minicurso de Cálculo com [Python](https://www.python.org/)\n",
    "\n",
    "* Material: [Notas de aula - Pedro H A Konzen](https://phkonzen.github.io/notas/)\n",
    "\n",
    "* Ligações recomendadas:\n",
    "\n",
    "    * [Sympy](https://www.sympy.org/): pacote [Python](https://www.python.org/) de matemática simbólica.\n",
    "    \n",
    "    * [Jupyter](https://jupyter.org/): aplicação Web iterativa para [Python](https://www.python.org/).\n",
    "    \n",
    "    * [Binder](https://mybinder.org/): ambiente compartilhável, interativo e reproduzível."
   ]
  },
  {
   "cell_type": "code",
   "execution_count": null,
   "metadata": {},
   "outputs": [],
   "source": [
    "from sympy import *\n",
    "init_printing()"
   ]
  },
  {
   "cell_type": "code",
   "execution_count": null,
   "metadata": {},
   "outputs": [],
   "source": []
  }
 ],
 "metadata": {
  "kernelspec": {
   "display_name": "Python 3",
   "language": "python",
   "name": "python3"
  },
  "language_info": {
   "codemirror_mode": {
    "name": "ipython",
    "version": 3
   },
   "file_extension": ".py",
   "mimetype": "text/x-python",
   "name": "python",
   "nbconvert_exporter": "python",
   "pygments_lexer": "ipython3",
   "version": "3.6.8"
  }
 },
 "nbformat": 4,
 "nbformat_minor": 2
}
