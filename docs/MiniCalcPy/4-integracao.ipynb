{
 "cells": [
  {
   "cell_type": "markdown",
   "metadata": {},
   "source": [
    "Este trabalho está licenciado sob a Licença Atribuição 4.0 Internacional Creative Commons. Para visualizar uma cópia desta licença, visite http://creativecommons.org/licenses/by/4.0/ ou mande uma carta para Creative Commons, PO Box 1866, Mountain View, CA 94042, USA.\n",
    "\n",
    "Autor/Instituição: Pedro H A Konzen / UFRGS\n",
    "\n",
    "pedro.konzen@ufrgs.br\n",
    "\n",
    "Data: Out/2015"
   ]
  },
  {
   "cell_type": "markdown",
   "metadata": {},
   "source": [
    "# Cálculo com Python\n",
    "\n",
    "Nesta quarta parte do curso vamos estudar como usar o python para calcular integrais de funções de uma variável."
   ]
  },
  {
   "cell_type": "markdown",
   "metadata": {},
   "source": [
    "## 4 - Integração\n",
    "\n",
    "Aqui você irá aprender a usar a biblioteca [Python][py] de matemática simbólica [Sympy][sy] para calcular:\n",
    "\n",
    "+ integrais indefinidas\n",
    "\n",
    "+ integrais definidas\n",
    "\n",
    "+ calcular áreas\n",
    "\n",
    "+ resolver simples problemas de valor inicial\n",
    "\n",
    "[py]:https://www.python.org/\n",
    "[sy]:http://www.sympy.org/en/index.html"
   ]
  },
  {
   "cell_type": "markdown",
   "metadata": {},
   "source": [
    "Começamos carrendo a biblioteca [Sympy][sy]:\n",
    "[sy]:http://www.sympy.org/en/index.html"
   ]
  },
  {
   "cell_type": "code",
   "execution_count": 1,
   "metadata": {
    "collapsed": false
   },
   "outputs": [],
   "source": [
    "from __future__ import division\n",
    "from sympy import *\n",
    "init_printing()\n",
    "x, y = symbols('x y') #define x e y como variáveis simbólicas."
   ]
  },
  {
   "cell_type": "markdown",
   "metadata": {},
   "source": [
    "Para fixar as ideias, vamos continuar trabalhando com a função: \n",
    "\n",
    "$f(x) = (x^3 - 3x + 2)e^{-x/4} - 1$."
   ]
  },
  {
   "cell_type": "code",
   "execution_count": 2,
   "metadata": {
    "collapsed": false
   },
   "outputs": [
    {
     "data": {
      "image/png": "[encoded data removed]",
      "text/latex": [
       "$$\\left(x^{3} - 3 x + 2\\right) e^{- \\frac{x}{4}} - 1$$"
      ],
      "text/plain": [
       "                -x     \n",
       "                ───    \n",
       "⎛ 3          ⎞   4     \n",
       "⎝x  - 3⋅x + 2⎠⋅ℯ    - 1"
      ]
     },
     "execution_count": 2,
     "metadata": {},
     "output_type": "execute_result"
    }
   ],
   "source": [
    "def f(x): return (x**3 - 3*x + 2)*exp(-x/4) - 1\n",
    "f(x)"
   ]
  },
  {
   "cell_type": "markdown",
   "metadata": {},
   "source": [
    "### Integrais indefinidas\n",
    "\n",
    "Vamos ver como podemos usar o Sympy para calcularmos a integral da função $f(x)$, i.e. $\\int f(x)\\,dx$. Para tanto, usamos a função [$\\verb+integrate+$][integrate]:\n",
    "\n",
    "[integrate]:http://docs.sympy.org/latest/tutorial/calculus.html#integrals"
   ]
  },
  {
   "cell_type": "code",
   "execution_count": 12,
   "metadata": {
    "collapsed": false,
    "scrolled": true
   },
   "outputs": [
    {
     "data": {
      "image/png": "[encoded data removed]",
      "text/latex": [
       "$$- x + \\left(- 4 x^{3} - 48 x^{2} - 372 x - 1496\\right) e^{- \\frac{x}{4}}$$"
      ],
      "text/plain": [
       "                                      -x \n",
       "                                      ───\n",
       "     ⎛     3       2               ⎞   4 \n",
       "-x + ⎝- 4⋅x  - 48⋅x  - 372⋅x - 1496⎠⋅ℯ   "
      ]
     },
     "execution_count": 12,
     "metadata": {},
     "output_type": "execute_result"
    }
   ],
   "source": [
    "integrate(f(x),x)"
   ]
  },
  {
   "cell_type": "markdown",
   "metadata": {},
   "source": [
    "#### Exercício:"
   ]
  },
  {
   "cell_type": "markdown",
   "metadata": {},
   "source": [
    "Sendo $g(x) = x^2 + \\frac{1}{2}$ calcule $\\int g(x)\\,dx$."
   ]
  },
  {
   "cell_type": "code",
   "execution_count": 5,
   "metadata": {
    "collapsed": false
   },
   "outputs": [],
   "source": [
    "#digite sua solução aqui!"
   ]
  },
  {
   "cell_type": "markdown",
   "metadata": {},
   "source": [
    "### Integrais definidas"
   ]
  },
  {
   "cell_type": "markdown",
   "metadata": {},
   "source": [
    "Aqui, vamos ver como calcular integrais definidas usando a biblioteca Sympy.Para tanto, podemos usar a mesma função [$\\verb+integrate+$][integrate] empregada acima. Por exemplo, calculemos:\n",
    "\n",
    "$\\int_{-1}^{1} f(x)\\,dx$:\n",
    "\n",
    "[integrate]:http://docs.sympy.org/latest/tutorial/calculus.html#integrals"
   ]
  },
  {
   "cell_type": "code",
   "execution_count": 15,
   "metadata": {
    "collapsed": false
   },
   "outputs": [
    {
     "data": {
      "image/png": "[encoded data removed]",
      "text/latex": [
       "$$- \\frac{1920}{e^{\\frac{1}{4}}} - 2 + 1168 e^{\\frac{1}{4}}$$"
      ],
      "text/plain": [
       "        -1/4             1/4\n",
       "- 1920⋅ℯ     - 2 + 1168⋅ℯ   "
      ]
     },
     "execution_count": 15,
     "metadata": {},
     "output_type": "execute_result"
    }
   ],
   "source": [
    "integrate(f(x),(x,-1,1))"
   ]
  },
  {
   "cell_type": "markdown",
   "metadata": {},
   "source": [
    "### Cálculo de Áreas\n",
    "\n",
    "Lembremos que podemos usar integrais para calcular a área entre o gráfico de uma dada função e o eixo das abscissas. \n",
    "\n",
    "Por exemplo, calculemos a área determinada pelas retas $x=-1$, $x=1$, a curva $y = f(x)$ e a reta $y=0$. Primeiramente, vamos facemos o esboço desta região. Para tanto, faremos uso das funções [$\\verb+plot+$][plot] e [$\\verb+plot_implicit+$][plot]:\n",
    "\n",
    "[plot]:http://docs.sympy.org/dev/modules/plotting.html"
   ]
  },
  {
   "cell_type": "code",
   "execution_count": 24,
   "metadata": {
    "collapsed": false
   },
   "outputs": [
    {
     "data": {
      "image/png": "[encoded data removed]",
      "text/plain": [
       "<matplotlib.figure.Figure at 0x7f3285503ac8>"
      ]
     },
     "metadata": {},
     "output_type": "display_data"
    }
   ],
   "source": [
    "%matplotlib inline\n",
    "p1 = plot(f(x),(x,-2,2),show=False)\n",
    "p2 = plot_implicit(y<f(x),(x,-1,1),(y,0,6),show=False)\n",
    "p3 = plot_implicit(y>f(x),(x,-1,1),(y,-2,0),show=False)\n",
    "p1.extend(p2)\n",
    "p1.extend(p3)\n",
    "p1.show()"
   ]
  },
  {
   "cell_type": "markdown",
   "metadata": {},
   "source": [
    "Agora, do cálculo, sabemos que a área definida acima é dada por:\n",
    "\n",
    "$\\int_{-1}^{1} |f(x)|\\,dx = \\int_{-1}^{x^{*}} f(x)\\,dx - \\int_{x^{*}}^1 f(x)\\,dx$.\n",
    "\n",
    "onde $x^*$ é a raiz de $f(x)$ contida no intervalo $(-1,1)$.\n",
    "\n",
    "Usando a expressão da direita, podemos calcular a área da seguinte forma:"
   ]
  },
  {
   "cell_type": "code",
   "execution_count": 29,
   "metadata": {
    "collapsed": false,
    "scrolled": true
   },
   "outputs": [
    {
     "data": {
      "image/png": "[encoded data removed]",
      "text/latex": [
       "$$-2991.69620602898 + \\frac{1920}{e^{\\frac{1}{4}}} + 1168 e^{\\frac{1}{4}}$$"
      ],
      "text/plain": [
       "                          -1/4         1/4\n",
       "-2991.69620602898 + 1920⋅ℯ     + 1168⋅ℯ   "
      ]
     },
     "execution_count": 29,
     "metadata": {},
     "output_type": "execute_result"
    }
   ],
   "source": [
    "xstar = nsolve(f(x),x,0.25) #encontra o zero x* de $f(x)$\n",
    "A = integrate(f(x),(x,-1,xstar)) - integrate(f(x),(x,xstar,1))\n",
    "A"
   ]
  },
  {
   "cell_type": "markdown",
   "metadata": {},
   "source": [
    "$\\blacktriangleleft$"
   ]
  },
  {
   "cell_type": "markdown",
   "metadata": {},
   "source": [
    "#### Exercício:"
   ]
  },
  {
   "cell_type": "markdown",
   "metadata": {},
   "source": [
    "Calule a área da região determinada pelas retas $x=2$, $x=100$, $y=f(x)$ e a reta $y=0$."
   ]
  },
  {
   "cell_type": "code",
   "execution_count": 30,
   "metadata": {
    "collapsed": false
   },
   "outputs": [],
   "source": [
    "#digite a resolução aqui."
   ]
  },
  {
   "cell_type": "markdown",
   "metadata": {},
   "source": [
    "## Referências\n",
    "\n",
    "+ [1] Python Software Fundation (US): [www.python.org][python]\n",
    "\n",
    "+ [2] Sympy - Python Library for Symbolic Mathematics: [www.sympy.org][sympy]\n",
    "\n",
    "\n",
    "## Quer aprender Python? Comece aqui!\n",
    "\n",
    "+ Codecademy - Lear to code: [www.codecademy.com][codecademy]\n",
    "\n",
    "\n",
    "## Ligações relacionadas\n",
    "\n",
    "+ [1] Sympy Gamma: [www.sympygamma.org][sympygamma]\n",
    "+ [2] Sympy Live: [live.sympy.org][sympylive]\n",
    "\n",
    "\n",
    "[python]: https://www.python.org/\n",
    "[sympy]: http://www.sympy.org/en/index.html\n",
    "[sympygamma]: http://www.sympygamma.com/\n",
    "[sympylive]: http://live.sympy.org/\n",
    "[codecademy]:https://www.codecademy.com/"
   ]
  },
  {
   "cell_type": "code",
   "execution_count": null,
   "metadata": {
    "collapsed": true
   },
   "outputs": [],
   "source": []
  }
 ],
 "metadata": {
  "kernelspec": {
   "display_name": "Anaconda 3",
   "language": "python",
   "name": "anaconda3"
  },
  "language_info": {
   "codemirror_mode": {
    "name": "ipython",
    "version": 3
   },
   "file_extension": ".py",
   "mimetype": "text/x-python",
   "name": "python",
   "nbconvert_exporter": "python",
   "pygments_lexer": "ipython3",
   "version": "3.4.3"
  },
  "name": "4-integracao.ipynb"
 },
 "nbformat": 4,
 "nbformat_minor": 0
}
