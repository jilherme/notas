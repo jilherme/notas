{
 "cells": [
  {
   "cell_type": "markdown",
   "metadata": {},
   "source": [
    "# Notas de aula\n",
    "\n",
    "* Repositório GitHub: (https://github.com/phkonzen/notas)[https://github.com/phkonzen/notas]\n",
    "\n",
    "* Bibliotecas Python disponíveis:\n",
    "    - numpy\n",
    "    - matplotlib\n",
    "    - sympy\n",
    "* Instalação de bibliotecas Python:\n",
    "    - Use `pip` ou `conda`\n",
    "    - FENiCS: `conda install -c conda-forge fenics`"
   ]
  },
  {
   "cell_type": "code",
   "execution_count": null,
   "metadata": {},
   "outputs": [],
   "source": []
  }
 ],
 "metadata": {
  "kernelspec": {
   "display_name": "Python 3",
   "language": "python",
   "name": "python3"
  },
  "language_info": {
   "codemirror_mode": {
    "name": "ipython",
    "version": 3
   },
   "file_extension": ".py",
   "mimetype": "text/x-python",
   "name": "python",
   "nbconvert_exporter": "python",
   "pygments_lexer": "ipython3",
   "version": "3.6.9"
  }
 },
 "nbformat": 4,
 "nbformat_minor": 2
}
