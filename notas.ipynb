{
  "cells": [
    {
      "cell_type": "markdown",
      "metadata": {
        "id": "RaU1rFQMpcB9"
      },
      "source": [
        "# Notas de aula\n",
        "\n",
        "* Repositório GitHub: https://github.com/phkonzen/notas\n",
        "\n",
        "* Instalação de bibliotecas Python:\n",
        "    - Use `pip`\n",
        "    - FENiCS: `conda install -c conda-forge fenics`"
      ]
    },
    {
      "cell_type": "code",
      "execution_count": null,
      "metadata": {
        "id": "8bf7DT66pcCC"
      },
      "outputs": [],
      "source": [
        ""
      ]
    }
  ],
  "metadata": {
    "kernelspec": {
      "display_name": "Python 3",
      "language": "python",
      "name": "python3"
    },
    "language_info": {
      "codemirror_mode": {
        "name": "ipython",
        "version": 3
      },
      "file_extension": ".py",
      "mimetype": "text/x-python",
      "name": "python",
      "nbconvert_exporter": "python",
      "pygments_lexer": "ipython3",
      "version": "3.6.9"
    },
    "colab": {
      "name": "notas.ipynb",
      "provenance": []
    }
  },
  "nbformat": 4,
  "nbformat_minor": 0
}