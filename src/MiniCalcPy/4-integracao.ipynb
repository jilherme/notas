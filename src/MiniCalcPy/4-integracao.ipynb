{
 "cells": [
  {
   "cell_type": "markdown",
   "metadata": {},
   "source": [
    "# Cálculo com Python\n",
    "\n",
    "Nesta quarta parte do curso vamos estudar como usar o [Python](https://www.python.org/) para calcular integrais de funções de uma variável."
   ]
  },
  {
   "cell_type": "markdown",
   "metadata": {},
   "source": [
    "## 4 - Integração\n",
    "\n",
    "Vamos aprender a usar a biblioteca [Python](https://www.python.org/) de matemática simbólica [Sympy](http://www.sympy.org) para computar:\n",
    "\n",
    "+ integrais indefinidas\n",
    "\n",
    "+ integrais definidas\n",
    "\n",
    "+ computar áreas"
   ]
  },
  {
   "cell_type": "markdown",
   "metadata": {},
   "source": [
    "Começamos carrendo a biblioteca [Sympy][sy]:\n",
    "[sy]:http://www.sympy.org"
   ]
  },
  {
   "cell_type": "code",
   "execution_count": 1,
   "metadata": {},
   "outputs": [
    {
     "data": {
      "image/png": "[encoded data removed]",
      "text/latex": [
       "$$\\left ( x, \\quad y\\right )$$"
      ],
      "text/plain": [
       "(x, y)"
      ]
     },
     "execution_count": 1,
     "metadata": {},
     "output_type": "execute_result"
    }
   ],
   "source": [
    "from sympy import *\n",
    "init_printing()\n",
    "var('x,y')"
   ]
  },
  {
   "cell_type": "markdown",
   "metadata": {},
   "source": [
    "Para fixar as ideias, vamos continuar trabalhando com a função: \n",
    "\n",
    "$f(x) = (x^3 - 3x + 2)e^{-x/4} - 1$."
   ]
  },
  {
   "cell_type": "code",
   "execution_count": 2,
   "metadata": {},
   "outputs": [
    {
     "data": {
      "image/png": "[encoded data removed]",
      "text/latex": [
       "$$\\left( x \\mapsto \\left(x^{3} - 3 x + 2\\right) e^{- \\frac{x}{4}} - 1 \\right)$$"
      ],
      "text/plain": [
       "                    -x     \n",
       "                    ───    \n",
       "    ⎛ 3          ⎞   4     \n",
       "x ↦ ⎝x  - 3⋅x + 2⎠⋅ℯ    - 1"
      ]
     },
     "execution_count": 2,
     "metadata": {},
     "output_type": "execute_result"
    }
   ],
   "source": [
    "f = Lambda(x, (x**3 - 3*x + 2)*exp(-x/4) - 1)\n",
    "f"
   ]
  },
  {
   "cell_type": "markdown",
   "metadata": {},
   "source": [
    "### Integrais indefinidas\n",
    "\n",
    "Vamos ver como podemos usar o [Sympy](https://www.sympy.org) para computarmos a integral da função $f$, i.e. \n",
    "\n",
    "$\\displaystyle \\int f(x)\\,dx$. \n",
    "\n",
    "Para tanto, usamos a função [`integrate`](https://docs.sympy.org/latest/modules/integrals/integrals.html?highlight=integrate#sympy.integrals.integrate):"
   ]
  },
  {
   "cell_type": "code",
   "execution_count": 3,
   "metadata": {
    "scrolled": true
   },
   "outputs": [
    {
     "data": {
      "image/png": "[encoded data removed]",
      "text/latex": [
       "$$- x + \\left(- 4 x^{3} - 48 x^{2} - 372 x - 1496\\right) e^{- \\frac{x}{4}}$$"
      ],
      "text/plain": [
       "                                      -x \n",
       "                                      ───\n",
       "     ⎛     3       2               ⎞   4 \n",
       "-x + ⎝- 4⋅x  - 48⋅x  - 372⋅x - 1496⎠⋅ℯ   "
      ]
     },
     "execution_count": 3,
     "metadata": {},
     "output_type": "execute_result"
    }
   ],
   "source": [
    "integrate(f(x), x)"
   ]
  },
  {
   "cell_type": "markdown",
   "metadata": {},
   "source": [
    "#### Exercício:"
   ]
  },
  {
   "cell_type": "markdown",
   "metadata": {},
   "source": [
    "Sendo $g(x) = x^2 + \\frac{1}{2}$ calcule $\\int g(x)\\,dx$."
   ]
  },
  {
   "cell_type": "code",
   "execution_count": 4,
   "metadata": {},
   "outputs": [],
   "source": [
    "#digite sua resolução aqui!"
   ]
  },
  {
   "cell_type": "markdown",
   "metadata": {},
   "source": [
    "### Integrais definidas"
   ]
  },
  {
   "cell_type": "markdown",
   "metadata": {},
   "source": [
    "Aqui, vamos ver como computar integrais definidas usando a biblioteca [Sympy](https://www.sympy.org).Para tanto, podemos usar a mesma função [`integrate`](https://docs.sympy.org/latest/modules/integrals/integrals.html?highlight=integrate#sympy.integrals.integrate) empregada acima. Por exemplo, computamos:\n",
    "\n",
    "$\\displaystyle \\int_{-1}^{1} f(x)\\,dx$:"
   ]
  },
  {
   "cell_type": "code",
   "execution_count": 5,
   "metadata": {},
   "outputs": [
    {
     "data": {
      "image/png": "[encoded data removed]",
      "text/latex": [
       "$$- \\frac{1920}{e^{\\frac{1}{4}}} - 2 + 1168 e^{\\frac{1}{4}}$$"
      ],
      "text/plain": [
       "        -1/4             1/4\n",
       "- 1920⋅ℯ     - 2 + 1168⋅ℯ   "
      ]
     },
     "execution_count": 5,
     "metadata": {},
     "output_type": "execute_result"
    }
   ],
   "source": [
    "integrate(f(x), (x, -1, 1))"
   ]
  },
  {
   "cell_type": "markdown",
   "metadata": {},
   "source": [
    "Para obtermos o valor em representalção decimal, digitamos:"
   ]
  },
  {
   "cell_type": "code",
   "execution_count": 6,
   "metadata": {},
   "outputs": [
    {
     "data": {
      "image/png": "[encoded data removed]",
      "text/latex": [
       "$$2.4441831941847063$$"
      ],
      "text/plain": [
       "2.4441831941847063"
      ]
     },
     "execution_count": 6,
     "metadata": {},
     "output_type": "execute_result"
    }
   ],
   "source": [
    "float(Out[5])"
   ]
  },
  {
   "cell_type": "markdown",
   "metadata": {},
   "source": [
    "### Cálculo de Áreas\n",
    "\n",
    "Lembramos que podemos usar integrais para calcular a área sob o gráfico de uma função. \n",
    "\n",
    "Por exemplo, vamos calcular a área determinada pelas retas $x=-1$, $x=1$, a curva $y = f(x)$ e a reta $y=0$. Primeiramente, vamos fazer o esboço desta região. Para tanto, faremos uso das funções [`plot`](https://docs.sympy.org/latest/modules/plotting.html?highlight=plot#module-sympy.plotting.plot) e [`plot_implicit`](https://docs.sympy.org/latest/modules/plotting.html?highlight=plot_implicit#sympy.plotting.plot_implicit.plot_implicit):"
   ]
  },
  {
   "cell_type": "code",
   "execution_count": 7,
   "metadata": {},
   "outputs": [
    {
     "data": {
      "image/png": "[encoded data removed]",
      "text/plain": [
       "<matplotlib.figure.Figure at 0x7f886cfbdc18>"
      ]
     },
     "metadata": {},
     "output_type": "display_data"
    }
   ],
   "source": [
    "%matplotlib inline\n",
    "p = plot(f(x), (x, -2, 2), show=False)\n",
    "q = plot_implicit(y<f(x), (x, -1, 1), (y, 0, 6), show=False)\n",
    "p.extend(q)\n",
    "q = plot_implicit(y>f(x), (x,-1,1), (y,-2,0), show=False)\n",
    "p.extend(q)\n",
    "p.show()"
   ]
  },
  {
   "cell_type": "markdown",
   "metadata": {},
   "source": [
    "Agora, do cálculo, sabemos que a área definida acima é dada por:\n",
    "\n",
    "$\\displaystyle \\int_{-1}^{1} |f(x)|\\,dx = \\int_{-1}^{x^{*}} f(x)\\,dx - \\int_{x^{*}}^1 f(x)\\,dx$.\n",
    "\n",
    "onde $x^*$ é a raiz de $f(x)$ contida no intervalo $(-1,1)$.\n",
    "\n",
    "Usando a expressão da direita, podemos computar a área da seguinte forma:"
   ]
  },
  {
   "cell_type": "code",
   "execution_count": 8,
   "metadata": {
    "scrolled": true
   },
   "outputs": [
    {
     "data": {
      "image/png": "[encoded data removed]",
      "text/latex": [
       "$$3.3429841594010057$$"
      ],
      "text/plain": [
       "3.3429841594010057"
      ]
     },
     "execution_count": 8,
     "metadata": {},
     "output_type": "execute_result"
    }
   ],
   "source": [
    "xstar = nsolve(f(x), x, 0.25) #encontra o zero x* de f\n",
    "A = integrate(f(x), (x, -1, xstar)) - integrate(f(x), (x, xstar, 1))\n",
    "float(A)"
   ]
  },
  {
   "cell_type": "markdown",
   "metadata": {},
   "source": [
    "$\\blacktriangleleft$"
   ]
  },
  {
   "cell_type": "markdown",
   "metadata": {},
   "source": [
    "#### Exercício:"
   ]
  },
  {
   "cell_type": "markdown",
   "metadata": {},
   "source": [
    "Calule a área da região determinada pelas retas $x=2$, $x=100$, $y=f(x)$ e a reta $y=0$."
   ]
  },
  {
   "cell_type": "code",
   "execution_count": 9,
   "metadata": {},
   "outputs": [],
   "source": [
    "#digite a resolução aqui."
   ]
  },
  {
   "cell_type": "markdown",
   "metadata": {},
   "source": [
    "## Referências\n",
    "\n",
    "+ [1] Python Software Fundation (US): [www.python.org][python]\n",
    "\n",
    "+ [2] Sympy - Python Library for Symbolic Mathematics: [www.sympy.org][sympy]\n",
    "\n",
    "\n",
    "## Quer aprender Python? Comece aqui!\n",
    "\n",
    "+ Codecademy - Lear to code: [www.codecademy.com][codecademy]\n",
    "\n",
    "\n",
    "## Ligações relacionadas\n",
    "\n",
    "+ [1] Sympy Gamma: [www.sympygamma.org][sympygamma]\n",
    "+ [2] Sympy Live: [live.sympy.org][sympylive]\n",
    "\n",
    "\n",
    "[python]: https://www.python.org/\n",
    "[sympy]: http://www.sympy.org/en/index.html\n",
    "[sympygamma]: http://www.sympygamma.com/\n",
    "[sympylive]: http://live.sympy.org/\n",
    "[codecademy]:https://www.codecademy.com/"
   ]
  },
  {
   "cell_type": "markdown",
   "metadata": {
    "collapsed": true
   },
   "source": [
    "Criado: Out/2015 Última modificação: Out/2019"
   ]
  },
  {
   "cell_type": "code",
   "execution_count": null,
   "metadata": {},
   "outputs": [],
   "source": []
  }
 ],
 "metadata": {
  "kernelspec": {
   "display_name": "Python 3",
   "language": "python",
   "name": "python3"
  },
  "language_info": {
   "codemirror_mode": {
    "name": "ipython",
    "version": 3
   },
   "file_extension": ".py",
   "mimetype": "text/x-python",
   "name": "python",
   "nbconvert_exporter": "python",
   "pygments_lexer": "ipython3",
   "version": "3.6.8"
  },
  "name": "4-integracao.ipynb"
 },
 "nbformat": 4,
 "nbformat_minor": 1
}
