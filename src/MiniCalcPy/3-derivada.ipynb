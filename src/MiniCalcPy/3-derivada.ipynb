{
 "cells": [
  {
   "cell_type": "markdown",
   "metadata": {},
   "source": [
    "# Cálculo com Python\n",
    "\n",
    "Nesta terceira parte do curso vamos estudar como usar o [Python](https://www.python.org/) para computar derivadas de funções de uma variável.\n",
    "\n",
    "[![Binder](https://mybinder.org/badge_logo.svg)](https://mybinder.org/v2/gh/phkonzen/notas/master?filepath=%2Fsrc%2FMiniCalcPy)"
   ]
  },
  {
   "cell_type": "markdown",
   "metadata": {},
   "source": [
    "## 3 - Derivadas\n",
    "\n",
    "Aqui, vamor aprender a usar a biblioteca [Python][py] de matemática simbólica [Sympy][sy] para computar:\n",
    "\n",
    "+ derivadas\n",
    "\n",
    "+ retas tangentes\n",
    "\n",
    "+ derivadas de ordem mais altas\n",
    "\n",
    "+ máximos e mínimos\n",
    "\n",
    "[py]:https://www.python.org/\n",
    "[sy]:http://www.sympy.org/en/index.html"
   ]
  },
  {
   "cell_type": "markdown",
   "metadata": {},
   "source": [
    "Começamos carrendo a biblioteca [SymPy](http://www.sympy.org):"
   ]
  },
  {
   "cell_type": "code",
   "execution_count": 1,
   "metadata": {},
   "outputs": [
    {
     "data": {
      "image/png": "[encoded data removed]",
      "text/latex": [
       "$$\\left ( x, \\quad y\\right )$$"
      ],
      "text/plain": [
       "(x, y)"
      ]
     },
     "execution_count": 1,
     "metadata": {},
     "output_type": "execute_result"
    }
   ],
   "source": [
    "from sympy import *\n",
    "init_printing()\n",
    "var('x,y')"
   ]
  },
  {
   "cell_type": "markdown",
   "metadata": {},
   "source": [
    "Para fixar as ideias, vamos continuar trabalhando com a função: \n",
    "\n",
    "$f(x) = (x^3 - 3x + 2)e^{-x/4} - 1$."
   ]
  },
  {
   "cell_type": "code",
   "execution_count": 2,
   "metadata": {},
   "outputs": [
    {
     "data": {
      "image/png": "[encoded data removed]",
      "text/latex": [
       "$$\\left( x \\mapsto \\left(x^{3} - 3 x + 2\\right) e^{- \\frac{x}{4}} - 1 \\right)$$"
      ],
      "text/plain": [
       "                    -x     \n",
       "                    ───    \n",
       "    ⎛ 3          ⎞   4     \n",
       "x ↦ ⎝x  - 3⋅x + 2⎠⋅ℯ    - 1"
      ]
     },
     "execution_count": 2,
     "metadata": {},
     "output_type": "execute_result"
    }
   ],
   "source": [
    "f = Lambda(x, (x**3 - 3*x + 2)*exp(-x/4) - 1)\n",
    "f"
   ]
  },
  {
   "cell_type": "markdown",
   "metadata": {},
   "source": [
    "### Derivadas\n",
    "\n",
    "Vamos ver como podemos usar o [SymPy](http://www.sympy.org/) para computarmos a derivada da função $f$, i.e.\n",
    "\n",
    "$\\displaystyle f' = \\frac{d f}{d x}$.\n",
    "\n",
    "Para tanto, usamos a função [`diff`](https://docs.sympy.org/latest/modules/core.html?highlight=diff#sympy.core.function.diff):"
   ]
  },
  {
   "cell_type": "code",
   "execution_count": 3,
   "metadata": {
    "scrolled": true
   },
   "outputs": [
    {
     "data": {
      "image/png": "[encoded data removed]",
      "text/latex": [
       "$$\\left(3 x^{2} - 3\\right) e^{- \\frac{x}{4}} - \\frac{e^{- \\frac{x}{4}}}{4} \\left(x^{3} - 3 x + 2\\right)$$"
      ],
      "text/plain": [
       "                                  -x \n",
       "            -x                    ───\n",
       "            ───   ⎛ 3          ⎞   4 \n",
       "⎛   2    ⎞   4    ⎝x  - 3⋅x + 2⎠⋅ℯ   \n",
       "⎝3⋅x  - 3⎠⋅ℯ    - ───────────────────\n",
       "                           4         "
      ]
     },
     "execution_count": 3,
     "metadata": {},
     "output_type": "execute_result"
    }
   ],
   "source": [
    "diff(f(x), x)"
   ]
  },
  {
   "cell_type": "markdown",
   "metadata": {},
   "source": [
    "Para avaliar a derivada em um ponto, por exemplo, para calcular $f'(1)$, digitamos:"
   ]
  },
  {
   "cell_type": "code",
   "execution_count": 4,
   "metadata": {},
   "outputs": [
    {
     "data": {
      "image/png": "[encoded data removed]",
      "text/latex": [
       "$$0$$"
      ],
      "text/plain": [
       "0"
      ]
     },
     "execution_count": 4,
     "metadata": {},
     "output_type": "execute_result"
    }
   ],
   "source": [
    "diff(f(x),x).subs(x,1)"
   ]
  },
  {
   "cell_type": "markdown",
   "metadata": {},
   "source": [
    "Também, podemos definir a função derivada de $f$ com o seguinte código:"
   ]
  },
  {
   "cell_type": "code",
   "execution_count": 5,
   "metadata": {},
   "outputs": [
    {
     "data": {
      "image/png": "[encoded data removed]",
      "text/latex": [
       "$$\\left( x \\mapsto \\left(3 x^{2} - 3\\right) e^{- \\frac{x}{4}} - \\frac{e^{- \\frac{x}{4}}}{4} \\left(x^{3} - 3 x + 2\\right) \\right)$$"
      ],
      "text/plain": [
       "                                      -x \n",
       "                -x                    ───\n",
       "                ───   ⎛ 3          ⎞   4 \n",
       "    ⎛   2    ⎞   4    ⎝x  - 3⋅x + 2⎠⋅ℯ   \n",
       "x ↦ ⎝3⋅x  - 3⎠⋅ℯ    - ───────────────────\n",
       "                               4         "
      ]
     },
     "execution_count": 5,
     "metadata": {},
     "output_type": "execute_result"
    }
   ],
   "source": [
    "fl = Lambda(x, diff(f(x), x))\n",
    "fl"
   ]
  },
  {
   "cell_type": "markdown",
   "metadata": {},
   "source": [
    "Com isso, $f'(1)$ pode ser computada com:"
   ]
  },
  {
   "cell_type": "code",
   "execution_count": 6,
   "metadata": {},
   "outputs": [
    {
     "data": {
      "image/png": "[encoded data removed]",
      "text/latex": [
       "$$0$$"
      ],
      "text/plain": [
       "0"
      ]
     },
     "execution_count": 6,
     "metadata": {},
     "output_type": "execute_result"
    }
   ],
   "source": [
    "fl(1)"
   ]
  },
  {
   "cell_type": "markdown",
   "metadata": {},
   "source": [
    "#### Exercício:"
   ]
  },
  {
   "cell_type": "markdown",
   "metadata": {},
   "source": [
    "Sendo $g(x) = x^2 + \\frac{1}{2}$ calcule $g'(1)$."
   ]
  },
  {
   "cell_type": "code",
   "execution_count": 7,
   "metadata": {},
   "outputs": [],
   "source": [
    "#digite sua solução aqui!"
   ]
  },
  {
   "cell_type": "markdown",
   "metadata": {},
   "source": [
    "### Reta Tangente"
   ]
  },
  {
   "cell_type": "markdown",
   "metadata": {},
   "source": [
    "Aqui, vamos ver como computar a reta tangente ao gráfico da função $f$ no ponto $\\displaystyle x_0 = -\\frac{1}{2}$. Lembremos que tal reta tangente tem equação:\n",
    "\n",
    "$y = f'(x_0)(x - x_0) + f(x_0)$.\n",
    "\n",
    "Assim sendo, podemos definir a função affim cujo gráfico é a reta tangente com o seguinte comando:"
   ]
  },
  {
   "cell_type": "code",
   "execution_count": 8,
   "metadata": {},
   "outputs": [
    {
     "data": {
      "image/png": "[encoded data removed]",
      "text/latex": [
       "$$\\left( x \\mapsto - 3.50567802667549 x + 1.07153701576279 \\right)$$"
      ],
      "text/plain": [
       "x ↦ -3.50567802667549⋅x + 1.07153701576279"
      ]
     },
     "execution_count": 8,
     "metadata": {},
     "output_type": "execute_result"
    }
   ],
   "source": [
    "x0 = -1/2\n",
    "r = Lambda(x, fl(x0)*(x-x0) + f(x0))\n",
    "r"
   ]
  },
  {
   "cell_type": "markdown",
   "metadata": {},
   "source": [
    "Vejamos os gráficos de $f(x)$ e da reta tangente computada."
   ]
  },
  {
   "cell_type": "code",
   "execution_count": 9,
   "metadata": {
    "scrolled": true
   },
   "outputs": [
    {
     "data": {
      "image/png": "[encoded data removed]",
      "text/plain": [
       "<matplotlib.figure.Figure at 0x7f005a6b4748>"
      ]
     },
     "metadata": {},
     "output_type": "display_data"
    }
   ],
   "source": [
    "%matplotlib inline\n",
    "p = plot(f(x), (x,-2,2), line_color='blue', show=False)\n",
    "q = plot(r(x), (x,-1.5,1), line_color='red', show=False)\n",
    "p.extend(q)\n",
    "p.show()"
   ]
  },
  {
   "cell_type": "markdown",
   "metadata": {},
   "source": [
    "$\\blacktriangleleft$"
   ]
  },
  {
   "cell_type": "markdown",
   "metadata": {},
   "source": [
    "#### Exercício:"
   ]
  },
  {
   "cell_type": "markdown",
   "metadata": {},
   "source": [
    "Encontre a reta tangente ao gráfico de $y = \\frac{1}{x}$ em $x=1$. Faça os esboços dos gráficos da função e da reta tangente em um mesmo gráfico."
   ]
  },
  {
   "cell_type": "code",
   "execution_count": 10,
   "metadata": {},
   "outputs": [],
   "source": [
    "#digite a resolução aqui."
   ]
  },
  {
   "cell_type": "markdown",
   "metadata": {},
   "source": [
    "### Derivadas de ordem mais altas\n",
    "\n",
    "Similarmente a derivadas de primeira ordem, as derivadas de ordem mais alta podem ser obtidas com a função [`diff`](https://docs.sympy.org/latest/modules/core.html?highlight=diff#sympy.core.function.diff). Por exemplo, para computarmos\n",
    "\n",
    "$\\displaystyle f'' = \\frac{d^2 f}{d x^2}$\n",
    "\n",
    "digitamos:"
   ]
  },
  {
   "cell_type": "code",
   "execution_count": 11,
   "metadata": {},
   "outputs": [
    {
     "data": {
      "image/png": "[encoded data removed]",
      "text/latex": [
       "$$\\frac{e^{- \\frac{x}{4}}}{16} \\left(x^{3} - 24 x^{2} + 93 x + 26\\right)$$"
      ],
      "text/plain": [
       "                          -x \n",
       "                          ───\n",
       "⎛ 3       2            ⎞   4 \n",
       "⎝x  - 24⋅x  + 93⋅x + 26⎠⋅ℯ   \n",
       "─────────────────────────────\n",
       "              16             "
      ]
     },
     "execution_count": 11,
     "metadata": {},
     "output_type": "execute_result"
    }
   ],
   "source": [
    "diff(f(x), x, 2)"
   ]
  },
  {
   "cell_type": "markdown",
   "metadata": {},
   "source": [
    "#### Exercício\n",
    "\n",
    "Calcule:\n",
    "\n",
    "$\\frac{d^3}{d x^3}\\left(\\frac{x^2 - 1 + \\text{sen}\\,x}{x^3 - 3x + 1}\\right)$."
   ]
  },
  {
   "cell_type": "code",
   "execution_count": 12,
   "metadata": {},
   "outputs": [],
   "source": [
    "#digite sua resposta aqui!"
   ]
  },
  {
   "cell_type": "markdown",
   "metadata": {},
   "source": [
    "### Máximos e Mínimos Locais\n",
    "\n",
    "Agora, vamos ver como podemos usar o que aprendemos até aqui para resolver problemas de máximos e mínimos. Nosso objetivo será encontrar e determinar os pontos de máximos e mínimos locais da função $f$. Para tanto, vamos usar o teste da segunda derivada.\n",
    "\n",
    "Comecemos lembrando do gráfico de $f$:"
   ]
  },
  {
   "cell_type": "code",
   "execution_count": 13,
   "metadata": {},
   "outputs": [
    {
     "data": {
      "image/png": "[encoded data removed]",
      "text/plain": [
       "<matplotlib.figure.Figure at 0x7f005a4c3828>"
      ]
     },
     "metadata": {},
     "output_type": "display_data"
    },
    {
     "data": {
      "image/png": "[encoded data removed]",
      "text/plain": [
       "<matplotlib.figure.Figure at 0x7f005a521cc0>"
      ]
     },
     "metadata": {},
     "output_type": "display_data"
    },
    {
     "data": {
      "image/png": "[encoded data removed]",
      "text/plain": [
       "<matplotlib.figure.Figure at 0x7f005a433b00>"
      ]
     },
     "metadata": {},
     "output_type": "display_data"
    },
    {
     "data": {
      "text/plain": [
       "<sympy.plotting.plot.Plot at 0x7f005a433550>"
      ]
     },
     "execution_count": 13,
     "metadata": {},
     "output_type": "execute_result"
    }
   ],
   "source": [
    "plot(f(x), (x,-2,2))\n",
    "plot(f(x), (x,2,40))\n",
    "plot(f(x), (x,40,80))"
   ]
  },
  {
   "cell_type": "markdown",
   "metadata": {},
   "source": [
    "Observando os gráficos, podemos inferir que $f$ tem máximos locais próximos a $x=-1$ e $x=10$ e um mínimo local próximo do ponto $x=1$. Logo, podemos usar estes valores como parâmetro da função [`nsolve`](https://docs.sympy.org/latest/modules/solvers/solvers.html?highlight=nsolve#sympy.solvers.solvers.nsolve) para resolvermos\n",
    "\n",
    "$f'(x) = 0$.\n",
    "\n",
    "Computamos:"
   ]
  },
  {
   "cell_type": "code",
   "execution_count": 14,
   "metadata": {},
   "outputs": [
    {
     "data": {
      "image/png": "[encoded data removed]",
      "text/latex": [
       "$$-1.15206734782504$$"
      ],
      "text/plain": [
       "-1.15206734782504"
      ]
     },
     "execution_count": 14,
     "metadata": {},
     "output_type": "execute_result"
    }
   ],
   "source": [
    "#ponto crítico próx. de x=-1\n",
    "x1 = nsolve(fl(x), x, -1)\n",
    "x1"
   ]
  },
  {
   "cell_type": "code",
   "execution_count": 15,
   "metadata": {},
   "outputs": [
    {
     "data": {
      "image/png": "[encoded data removed]",
      "text/latex": [
       "$$1.0$$"
      ],
      "text/plain": [
       "1.00000000000000"
      ]
     },
     "execution_count": 15,
     "metadata": {},
     "output_type": "execute_result"
    }
   ],
   "source": [
    "#ponto crítico próx. de x=1\n",
    "x2 = nsolve(fl(x), x, 1)\n",
    "x2"
   ]
  },
  {
   "cell_type": "code",
   "execution_count": 16,
   "metadata": {},
   "outputs": [
    {
     "data": {
      "image/png": "[encoded data removed]",
      "text/latex": [
       "$$12.152067347825$$"
      ],
      "text/plain": [
       "12.1520673478250"
      ]
     },
     "execution_count": 16,
     "metadata": {},
     "output_type": "execute_result"
    }
   ],
   "source": [
    "#ponto crítico próx. de x=10\n",
    "x3 = nsolve(fl(x), x, 10)\n",
    "x3"
   ]
  },
  {
   "cell_type": "markdown",
   "metadata": {},
   "source": [
    "Ok. Acamos de encontrar os pontos críticos de $f(x)$ (podem haver outros pontos críticos?). Por inspesão gráfica, vemos que $x_1 \\approx -1,15$ e $x_3 \\approx 12,15$ são os pontos de máximos locais de $f(x)$, com $x_3$ ponto de máximo global? O ponto $x_2 = 1$ é ponto de mínimo local?\n",
    "\n",
    "Podemos responder parcialmente estas questões com o teste da segunda derivada. Vejamos:"
   ]
  },
  {
   "cell_type": "code",
   "execution_count": 17,
   "metadata": {},
   "outputs": [
    {
     "data": {
      "image/png": "[encoded data removed]",
      "text/latex": [
       "$$\\left( x \\mapsto \\frac{e^{- \\frac{x}{4}}}{16} \\left(x^{3} - 24 x^{2} + 93 x + 26\\right) \\right)$$"
      ],
      "text/plain": [
       "                              -x \n",
       "                              ───\n",
       "    ⎛ 3       2            ⎞   4 \n",
       "    ⎝x  - 24⋅x  + 93⋅x + 26⎠⋅ℯ   \n",
       "x ↦ ─────────────────────────────\n",
       "                  16             "
      ]
     },
     "execution_count": 17,
     "metadata": {},
     "output_type": "execute_result"
    }
   ],
   "source": [
    "# f''\n",
    "fll = Lambda(x, diff(f(x), x, 2))\n",
    "fll"
   ]
  },
  {
   "cell_type": "code",
   "execution_count": 18,
   "metadata": {},
   "outputs": [
    {
     "data": {
      "image/png": "[encoded data removed]",
      "text/latex": [
       "$$-9.54699341615203$$"
      ],
      "text/plain": [
       "-9.54699341615203"
      ]
     },
     "execution_count": 18,
     "metadata": {},
     "output_type": "execute_result"
    }
   ],
   "source": [
    "fll(x1)"
   ]
  },
  {
   "cell_type": "code",
   "execution_count": 19,
   "metadata": {},
   "outputs": [
    {
     "data": {
      "image/png": "[encoded data removed]",
      "text/latex": [
       "$$4.67280469842843$$"
      ],
      "text/plain": [
       "4.67280469842843"
      ]
     },
     "execution_count": 19,
     "metadata": {},
     "output_type": "execute_result"
    }
   ],
   "source": [
    "fll(x2)"
   ]
  },
  {
   "cell_type": "code",
   "execution_count": 20,
   "metadata": {},
   "outputs": [
    {
     "data": {
      "image/png": "[encoded data removed]",
      "text/latex": [
       "$$-1.77782118521895$$"
      ],
      "text/plain": [
       "-1.77782118521895"
      ]
     },
     "execution_count": 20,
     "metadata": {},
     "output_type": "execute_result"
    }
   ],
   "source": [
    "fll(x3)"
   ]
  },
  {
   "cell_type": "markdown",
   "metadata": {},
   "source": [
    "Logo, pelo teste da segunda derivada, confirmamos que $x_1 \\approx -1,15$ e $x_3 \\approx 12,15$ são os pontos de máximos locais e $x_2=1$ é ponto de mínimo local. As demais questões em aberto ficam de exercício!"
   ]
  },
  {
   "cell_type": "markdown",
   "metadata": {},
   "source": [
    "#### Exercício\n",
    "\n",
    "Referente ao problema de otimização que acabamos de discutir, responda:\n",
    "\n",
    "(a) Os pontos $x_1$, $x_2$ e $x_3$ calculados acima são os únicos pontos críticos de $f(x)$? Justifique sua resposta.\n",
    "\n",
    "(b) Quais são os pontos de mínimo e máximo globais de $f(x)$?\n",
    "\n",
    "(c) Qual é o maior valor que $f(x)$ assume? E qual é o menor?"
   ]
  },
  {
   "cell_type": "code",
   "execution_count": 21,
   "metadata": {},
   "outputs": [],
   "source": [
    "#digite sua solução aqui!"
   ]
  },
  {
   "cell_type": "markdown",
   "metadata": {},
   "source": [
    "## Referências\n",
    "\n",
    "+ [1] Python Software Fundation (US): [www.python.org][python]\n",
    "\n",
    "+ [2] Sympy - Python Library for Symbolic Mathematics: [www.sympy.org][sympy]\n",
    "\n",
    "## Related links\n",
    "\n",
    "+ [1] Sympy Gamma: [www.sympygamma.org][sympygamma]\n",
    "+ [2] Sympy Live: [live.sympy.org][sympylive]\n",
    "\n",
    "\n",
    "[python]: https://www.python.org/\n",
    "[sympy]: http://www.sympy.org/en/index.html\n",
    "[sympygamma]: http://www.sympygamma.com/\n",
    "[sympylive]: http://live.sympy.org/"
   ]
  },
  {
   "cell_type": "markdown",
   "metadata": {},
   "source": [
    "#### Próxima parte: 4 - Integral"
   ]
  },
  {
   "cell_type": "markdown",
   "metadata": {
    "collapsed": true
   },
   "source": [
    "Criado: Out/2015 Última modificação: Out/2019"
   ]
  },
  {
   "cell_type": "code",
   "execution_count": null,
   "metadata": {},
   "outputs": [],
   "source": []
  }
 ],
 "metadata": {
  "kernelspec": {
   "display_name": "Python 3",
   "language": "python",
   "name": "python3"
  },
  "language_info": {
   "codemirror_mode": {
    "name": "ipython",
    "version": 3
   },
   "file_extension": ".py",
   "mimetype": "text/x-python",
   "name": "python",
   "nbconvert_exporter": "python",
   "pygments_lexer": "ipython3",
   "version": "3.6.8"
  },
  "name": "3-derivada.ipynb"
 },
 "nbformat": 4,
 "nbformat_minor": 1
}
